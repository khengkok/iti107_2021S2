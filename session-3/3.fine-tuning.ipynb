{
  "nbformat": 4,
  "nbformat_minor": 5,
  "metadata": {
    "kernelspec": {
      "display_name": "Python 3 (ipykernel)",
      "language": "python",
      "name": "python3"
    },
    "language_info": {
      "codemirror_mode": {
        "name": "ipython",
        "version": 3
      },
      "file_extension": ".py",
      "mimetype": "text/x-python",
      "name": "python",
      "nbconvert_exporter": "python",
      "pygments_lexer": "ipython3",
      "version": "3.8.11"
    },
    "colab": {
      "name": "3.fine-tuning.ipynb",
      "provenance": [],
      "include_colab_link": true
    },
    "accelerator": "GPU"
  },
  "cells": [
    {
      "cell_type": "markdown",
      "metadata": {
        "id": "view-in-github",
        "colab_type": "text"
      },
      "source": [
        "<a href=\"https://colab.research.google.com/github/nyp-sit/iti107/blob/main/session-3/3.fine-tuning.ipynb\" target=\"_parent\"><img src=\"https://colab.research.google.com/assets/colab-badge.svg\" alt=\"Open In Colab\"/></a>"
      ]
    },
    {
      "cell_type": "markdown",
      "metadata": {
        "id": "ce6b8183-8ef0-4664-813f-6a635bda0f15"
      },
      "source": [
        "## Fine-tuning\n",
        "\n",
        "Another widely used transfer learning technique is _fine-tuning_. \n",
        "Fine-tuning involves unfreezing a few of the top layers \n",
        "of a frozen model base used for feature extraction, and jointly training both the newly added part of the model (in our case, the \n",
        "fully-connected classifier) and these unfrozen top layers. This is called \"fine-tuning\" because it slightly adjusts the more abstract \n",
        "representations of the model being reused, in order to make them more relevant for the problem at hand.\n",
        "\n",
        "![fine-tuning VGG16](https://nyp-aicourse.s3-ap-southeast-1.amazonaws.com/resources/it3103/vgg16_fine_tuning.png)"
      ],
      "id": "ce6b8183-8ef0-4664-813f-6a635bda0f15"
    },
    {
      "cell_type": "code",
      "metadata": {
        "id": "768ead86-19a3-4908-be5b-57538c555a19"
      },
      "source": [
        "import os\n",
        "import tensorflow as tf\n",
        "import tensorflow.keras as keras\n",
        "import tensorflow.keras.layers as layers"
      ],
      "id": "768ead86-19a3-4908-be5b-57538c555a19",
      "execution_count": 1,
      "outputs": []
    },
    {
      "cell_type": "markdown",
      "metadata": {
        "id": "790141c4-2bee-4431-8449-204417495a64"
      },
      "source": [
        "It was necessary to freeze the convolution base of VGG16 in order to be able to train a randomly initialized \n",
        "classifier on top. For the same reason, it is only possible to fine-tune the top layers of the convolutional base once the classifier on \n",
        "top has already been trained. If the classified wasn't already trained, then the error signal propagating through the network during \n",
        "training would be too large, and the representations previously learned by the layers being fine-tuned would be destroyed. Thus the steps \n",
        "for fine-tuning a network are as follow:\n",
        "\n",
        "1. Add your custom network on top of an already trained base network.\n",
        "2. Freeze the base network.\n",
        "3. Train the part you added.\n",
        "4. Unfreeze some layers in the base network.\n",
        "5. Jointly train both these layers and the part you added.\n"
      ],
      "id": "790141c4-2bee-4431-8449-204417495a64"
    },
    {
      "cell_type": "code",
      "metadata": {
        "id": "RB9VSinUyvhV"
      },
      "source": [
        "img_height, img_width = 128, 128\n",
        "\n",
        "# Load the pre-trained model \n",
        "base_model = keras.applications.VGG16(input_shape=(img_height, img_width) + (3,),\n",
        "                                         include_top=False,\n",
        "                                         weights='imagenet')\n",
        "\n",
        "preprocess_input_fn = keras.applications.vgg16.preprocess_input\n",
        "\n",
        "# freeze the base layer \n",
        "base_model.trainable = False\n",
        "\n",
        "# Add input layer \n",
        "inputs = layers.Input(shape=(img_height, img_width, 3))\n",
        "# Add preprocessing layer\n",
        "x = preprocess_input_fn(inputs)\n",
        "# Add the base, set training to false to freeze the convolutional base\n",
        "x = base_model(x)\n",
        "# Add our classification head\n",
        "x = layers.GlobalAveragePooling2D()(x)\n",
        "x = layers.Dropout(rate=0.5)(x)\n",
        "x = layers.Dense(units=512, activation=\"relu\")(x)\n",
        "x = layers.Dropout(rate=0.5)(x)\n",
        "outputs = layers.Dense(units=1, activation=\"sigmoid\")(x)\n",
        "\n",
        "model = keras.models.Model(inputs=[inputs], outputs=[outputs])\n",
        "\n",
        "base_learning_rate = 0.001\n",
        "\n",
        "model.compile(loss=\"binary_crossentropy\", \n",
        "                  optimizer=keras.optimizers.Adam(learning_rate=base_learning_rate), \n",
        "                  metrics=[\"accuracy\"])\n"
      ],
      "id": "RB9VSinUyvhV",
      "execution_count": 19,
      "outputs": []
    },
    {
      "cell_type": "markdown",
      "metadata": {
        "id": "0UVNujET2sho"
      },
      "source": [
        "Let's confirm all the layers of convolutional base are frozen. "
      ],
      "id": "0UVNujET2sho"
    },
    {
      "cell_type": "code",
      "metadata": {
        "id": "NX2qOF-52eVq",
        "outputId": "cf3f3c99-2981-4e2e-ed6f-5fbc1b98518c",
        "colab": {
          "base_uri": "https://localhost:8080/"
        }
      },
      "source": [
        "for layer in base_model.layers:\n",
        "    print(layer.name, layer.trainable)"
      ],
      "id": "NX2qOF-52eVq",
      "execution_count": 10,
      "outputs": [
        {
          "output_type": "stream",
          "name": "stdout",
          "text": [
            "input_7 False\n",
            "block1_conv1 False\n",
            "block1_conv2 False\n",
            "block1_pool False\n",
            "block2_conv1 False\n",
            "block2_conv2 False\n",
            "block2_pool False\n",
            "block3_conv1 False\n",
            "block3_conv2 False\n",
            "block3_conv3 False\n",
            "block3_pool False\n",
            "block4_conv1 False\n",
            "block4_conv2 False\n",
            "block4_conv3 False\n",
            "block4_pool False\n",
            "block5_conv1 False\n",
            "block5_conv2 False\n",
            "block5_conv3 False\n",
            "block5_pool False\n"
          ]
        }
      ]
    },
    {
      "cell_type": "markdown",
      "metadata": {
        "id": "Q418z8cI3V-O"
      },
      "source": [
        "Let's print out the model summary and see how many trainable weights. We can see that we only 263,169 trainable weights (parameters), coming from the classification head that put on top of the convolutional base. (For comparison, a VGG16 has total of 14,714,688 weights)."
      ],
      "id": "Q418z8cI3V-O"
    },
    {
      "cell_type": "code",
      "metadata": {
        "id": "ZkwKVe2_2_qF",
        "outputId": "ffbb908f-61e1-4af2-e9ea-a5022bd430ea",
        "colab": {
          "base_uri": "https://localhost:8080/"
        }
      },
      "source": [
        "model.summary()"
      ],
      "id": "ZkwKVe2_2_qF",
      "execution_count": 11,
      "outputs": [
        {
          "output_type": "stream",
          "name": "stdout",
          "text": [
            "Model: \"model_3\"\n",
            "_________________________________________________________________\n",
            "Layer (type)                 Output Shape              Param #   \n",
            "=================================================================\n",
            "input_8 (InputLayer)         [(None, 128, 128, 3)]     0         \n",
            "_________________________________________________________________\n",
            "tf.__operators__.getitem_3 ( (None, 128, 128, 3)       0         \n",
            "_________________________________________________________________\n",
            "tf.nn.bias_add_3 (TFOpLambda (None, 128, 128, 3)       0         \n",
            "_________________________________________________________________\n",
            "vgg16 (Functional)           (None, 4, 4, 512)         14714688  \n",
            "_________________________________________________________________\n",
            "global_average_pooling2d_3 ( (None, 512)               0         \n",
            "_________________________________________________________________\n",
            "dropout_6 (Dropout)          (None, 512)               0         \n",
            "_________________________________________________________________\n",
            "dense_6 (Dense)              (None, 512)               262656    \n",
            "_________________________________________________________________\n",
            "dropout_7 (Dropout)          (None, 512)               0         \n",
            "_________________________________________________________________\n",
            "dense_7 (Dense)              (None, 1)                 513       \n",
            "=================================================================\n",
            "Total params: 14,977,857\n",
            "Trainable params: 263,169\n",
            "Non-trainable params: 14,714,688\n",
            "_________________________________________________________________\n"
          ]
        }
      ]
    },
    {
      "cell_type": "markdown",
      "metadata": {
        "id": "toPgcpoW4HIm"
      },
      "source": [
        "## Creating Datasets\n",
        "\n",
        "We will setup our training and validation dataset as we did in earlier exercise."
      ],
      "id": "toPgcpoW4HIm"
    },
    {
      "cell_type": "code",
      "metadata": {
        "id": "dc8d2e8a-b80a-410a-afb7-b7534a83af77",
        "outputId": "81f75aeb-db25-4686-88da-d21cd6ee1139",
        "colab": {
          "base_uri": "https://localhost:8080/"
        }
      },
      "source": [
        "dataset_URL = 'https://nyp-aicourse.s3.ap-southeast-1.amazonaws.com/iti107/datasets/intel_emotions_dataset.zip'\n",
        "path_to_zip = tf.keras.utils.get_file('intel_emotions_dataset.zip', origin=dataset_URL, extract=True, cache_dir='.')\n",
        "dataset_dir = os.path.dirname(path_to_zip)"
      ],
      "id": "dc8d2e8a-b80a-410a-afb7-b7534a83af77",
      "execution_count": 13,
      "outputs": [
        {
          "output_type": "stream",
          "name": "stdout",
          "text": [
            "Downloading data from https://nyp-aicourse.s3.ap-southeast-1.amazonaws.com/iti107/datasets/intel_emotions_dataset.zip\n",
            "504274944/504272804 [==============================] - 36s 0us/step\n",
            "504283136/504272804 [==============================] - 36s 0us/step\n"
          ]
        }
      ]
    },
    {
      "cell_type": "code",
      "metadata": {
        "id": "208febe1-3fdf-41e3-999c-3fac7e70f007",
        "outputId": "77121fc6-d050-46b1-e1ff-f9294455ce70",
        "colab": {
          "base_uri": "https://localhost:8080/"
        }
      },
      "source": [
        "batch_size = 32\n",
        "image_size = (img_height, img_width)\n",
        "\n",
        "train_ds = tf.keras.preprocessing.image_dataset_from_directory(\n",
        "    dataset_dir,\n",
        "    validation_split=0.2,\n",
        "    subset=\"training\",\n",
        "    seed=1337,\n",
        "    image_size=image_size,\n",
        "    batch_size=batch_size,\n",
        "    label_mode='binary'\n",
        ")\n",
        "val_ds = tf.keras.preprocessing.image_dataset_from_directory(\n",
        "    dataset_dir,\n",
        "    validation_split=0.2,\n",
        "    subset=\"validation\",\n",
        "    seed=1337,\n",
        "    image_size=image_size,\n",
        "    batch_size=batch_size,\n",
        "    label_mode='binary'\n",
        ")"
      ],
      "id": "208febe1-3fdf-41e3-999c-3fac7e70f007",
      "execution_count": 14,
      "outputs": [
        {
          "output_type": "stream",
          "name": "stdout",
          "text": [
            "Found 1630 files belonging to 2 classes.\n",
            "Using 1304 files for training.\n",
            "Found 1630 files belonging to 2 classes.\n",
            "Using 326 files for validation.\n"
          ]
        }
      ]
    },
    {
      "cell_type": "markdown",
      "metadata": {
        "id": "ZSyhl8et47AV"
      },
      "source": [
        "## Train the classification head \n",
        "\n",
        "We will go ahead and train our classification head."
      ],
      "id": "ZSyhl8et47AV"
    },
    {
      "cell_type": "code",
      "metadata": {
        "id": "cqSDQ4gP5HEO",
        "outputId": "136ae68c-c0db-4738-d0cf-762663a03ef0",
        "colab": {
          "base_uri": "https://localhost:8080/"
        }
      },
      "source": [
        "# create model checkpoint callback to save the best model checkpoint\n",
        "model_checkpoint_callback = tf.keras.callbacks.ModelCheckpoint(\n",
        "    filepath=\"best_checkpoint\",\n",
        "    save_weights_only=True,\n",
        "    monitor='val_accuracy',\n",
        "    mode='max',\n",
        "    save_best_only=True)\n",
        "\n",
        "model.fit(train_ds, validation_data=val_ds, \n",
        "          epochs=30, callbacks=[model_checkpoint_callback])"
      ],
      "id": "cqSDQ4gP5HEO",
      "execution_count": 20,
      "outputs": [
        {
          "output_type": "stream",
          "name": "stdout",
          "text": [
            "Epoch 1/30\n",
            "41/41 [==============================] - 7s 128ms/step - loss: 4.3632 - accuracy: 0.5943 - val_loss: 1.5902 - val_accuracy: 0.7117\n",
            "Epoch 2/30\n",
            "41/41 [==============================] - 5s 117ms/step - loss: 3.2166 - accuracy: 0.6304 - val_loss: 1.3628 - val_accuracy: 0.7117\n",
            "Epoch 3/30\n",
            "41/41 [==============================] - 5s 122ms/step - loss: 2.0088 - accuracy: 0.6710 - val_loss: 1.0499 - val_accuracy: 0.7086\n",
            "Epoch 4/30\n",
            "41/41 [==============================] - 5s 118ms/step - loss: 1.5379 - accuracy: 0.7048 - val_loss: 1.0310 - val_accuracy: 0.6871\n",
            "Epoch 5/30\n",
            "41/41 [==============================] - 5s 117ms/step - loss: 1.3656 - accuracy: 0.6925 - val_loss: 0.8898 - val_accuracy: 0.7178\n",
            "Epoch 6/30\n",
            "41/41 [==============================] - 5s 117ms/step - loss: 1.1775 - accuracy: 0.7032 - val_loss: 0.7719 - val_accuracy: 0.7209\n",
            "Epoch 7/30\n",
            "41/41 [==============================] - 5s 116ms/step - loss: 0.9726 - accuracy: 0.7117 - val_loss: 0.7134 - val_accuracy: 0.6994\n",
            "Epoch 8/30\n",
            "41/41 [==============================] - 5s 118ms/step - loss: 0.8050 - accuracy: 0.7477 - val_loss: 0.6962 - val_accuracy: 0.6994\n",
            "Epoch 9/30\n",
            "41/41 [==============================] - 5s 117ms/step - loss: 0.8401 - accuracy: 0.7239 - val_loss: 0.6206 - val_accuracy: 0.7301\n",
            "Epoch 10/30\n",
            "41/41 [==============================] - 5s 122ms/step - loss: 0.6688 - accuracy: 0.7523 - val_loss: 0.6027 - val_accuracy: 0.7362\n",
            "Epoch 11/30\n",
            "41/41 [==============================] - 5s 120ms/step - loss: 0.6526 - accuracy: 0.7577 - val_loss: 0.5945 - val_accuracy: 0.7117\n",
            "Epoch 12/30\n",
            "41/41 [==============================] - 5s 118ms/step - loss: 0.5880 - accuracy: 0.7646 - val_loss: 0.6193 - val_accuracy: 0.7025\n",
            "Epoch 13/30\n",
            "41/41 [==============================] - 5s 117ms/step - loss: 0.5425 - accuracy: 0.7707 - val_loss: 0.5857 - val_accuracy: 0.7055\n",
            "Epoch 14/30\n",
            "41/41 [==============================] - 5s 121ms/step - loss: 0.5160 - accuracy: 0.7883 - val_loss: 0.5835 - val_accuracy: 0.7178\n",
            "Epoch 15/30\n",
            "41/41 [==============================] - 5s 118ms/step - loss: 0.5106 - accuracy: 0.7669 - val_loss: 0.5878 - val_accuracy: 0.7025\n",
            "Epoch 16/30\n",
            "41/41 [==============================] - 5s 120ms/step - loss: 0.4672 - accuracy: 0.7860 - val_loss: 0.5797 - val_accuracy: 0.6779\n",
            "Epoch 17/30\n",
            "41/41 [==============================] - 5s 118ms/step - loss: 0.4647 - accuracy: 0.8052 - val_loss: 0.5830 - val_accuracy: 0.6963\n",
            "Epoch 18/30\n",
            "41/41 [==============================] - 5s 119ms/step - loss: 0.4832 - accuracy: 0.7776 - val_loss: 0.5751 - val_accuracy: 0.7117\n",
            "Epoch 19/30\n",
            "41/41 [==============================] - 5s 119ms/step - loss: 0.4726 - accuracy: 0.7891 - val_loss: 0.5720 - val_accuracy: 0.7025\n",
            "Epoch 20/30\n",
            "41/41 [==============================] - 5s 117ms/step - loss: 0.3931 - accuracy: 0.8229 - val_loss: 0.5733 - val_accuracy: 0.7055\n",
            "Epoch 21/30\n",
            "41/41 [==============================] - 5s 118ms/step - loss: 0.4007 - accuracy: 0.8344 - val_loss: 0.5793 - val_accuracy: 0.7055\n",
            "Epoch 22/30\n",
            "41/41 [==============================] - 5s 119ms/step - loss: 0.3757 - accuracy: 0.8344 - val_loss: 0.5708 - val_accuracy: 0.6779\n",
            "Epoch 23/30\n",
            "41/41 [==============================] - 5s 117ms/step - loss: 0.4037 - accuracy: 0.8129 - val_loss: 0.5650 - val_accuracy: 0.6994\n",
            "Epoch 24/30\n",
            "41/41 [==============================] - 5s 118ms/step - loss: 0.4056 - accuracy: 0.8221 - val_loss: 0.5696 - val_accuracy: 0.6994\n",
            "Epoch 25/30\n",
            "41/41 [==============================] - 5s 124ms/step - loss: 0.4142 - accuracy: 0.8121 - val_loss: 0.5680 - val_accuracy: 0.6994\n",
            "Epoch 26/30\n",
            "41/41 [==============================] - 5s 118ms/step - loss: 0.3675 - accuracy: 0.8213 - val_loss: 0.5638 - val_accuracy: 0.6994\n",
            "Epoch 27/30\n",
            "41/41 [==============================] - 5s 120ms/step - loss: 0.3888 - accuracy: 0.8359 - val_loss: 0.5717 - val_accuracy: 0.7178\n",
            "Epoch 28/30\n",
            "41/41 [==============================] - 5s 118ms/step - loss: 0.3583 - accuracy: 0.8382 - val_loss: 0.5799 - val_accuracy: 0.7147\n",
            "Epoch 29/30\n",
            "41/41 [==============================] - 5s 119ms/step - loss: 0.3638 - accuracy: 0.8321 - val_loss: 0.5902 - val_accuracy: 0.7147\n",
            "Epoch 30/30\n",
            "41/41 [==============================] - 5s 119ms/step - loss: 0.3543 - accuracy: 0.8512 - val_loss: 0.5948 - val_accuracy: 0.7331\n"
          ]
        },
        {
          "output_type": "execute_result",
          "data": {
            "text/plain": [
              "<keras.callbacks.History at 0x7f388f144490>"
            ]
          },
          "metadata": {},
          "execution_count": 20
        }
      ]
    },
    {
      "cell_type": "markdown",
      "metadata": {
        "id": "172d426c-7666-47b1-84a6-485826b79641"
      },
      "source": [
        "Now we have our classification layers trained, let's start to unfreeze some top layers of the convolutional base to fine tune the weights. \n",
        "We will fine-tune the last 3 convolutional layers, which means that all layers up until `block4_pool` should be frozen, and the layers \n",
        "`block5_conv1`, `block5_conv2` and `block5_conv3` should be trainable.\n",
        "\n",
        "Why not fine-tune more layers? Why not fine-tune the entire convolutional base? We could. However, we need to consider that:\n",
        "\n",
        "* Earlier layers in the convolutional base encode more generic, reusable features, while layers higher up encode more specialized features. It is \n",
        "more useful to fine-tune the more specialized features, as these are the ones that need to be repurposed on our new problem. There would \n",
        "be fast-decreasing returns in fine-tuning lower layers.\n",
        "* The more parameters we are training, the more we are at risk of overfitting. The convolutional base has 15M parameters, so it would be \n",
        "risky to attempt to train it on our small dataset.\n",
        "\n",
        "Thus, in our situation, it is a good strategy to only fine-tune the top 2 to 3 layers in the convolutional base.\n",
        "\n",
        "Let's set this up, we will unfreeze our `base_model`, \n",
        "and then freeze individual layers inside of it, except the last 3 layers. \n",
        "\n",
        "Do a model ``summary()`` and you will see now that the number of trainable weights are now 7,079,424 (around 7 millions), much less than previously, because all the layers are frozen except the last 3 layers."
      ],
      "id": "172d426c-7666-47b1-84a6-485826b79641"
    },
    {
      "cell_type": "code",
      "metadata": {
        "id": "690283a8-4c53-4293-b8f2-c0685d8031aa"
      },
      "source": [
        "base_model.trainable = True\n",
        "for layer in base_model.layers[:-4]:\n",
        "    layer.trainable = False"
      ],
      "id": "690283a8-4c53-4293-b8f2-c0685d8031aa",
      "execution_count": 21,
      "outputs": []
    },
    {
      "cell_type": "markdown",
      "metadata": {
        "id": "wWXyo3n5903l"
      },
      "source": [
        "Let us examine model summary again. We can see now that we have more trainable weights 7,342,593 compared to previously 263,169."
      ],
      "id": "wWXyo3n5903l"
    },
    {
      "cell_type": "code",
      "metadata": {
        "id": "8uq86nMv-HxP",
        "outputId": "192860eb-7cf2-4e03-f32f-834b3c268b7c",
        "colab": {
          "base_uri": "https://localhost:8080/"
        }
      },
      "source": [
        "model.summary()"
      ],
      "id": "8uq86nMv-HxP",
      "execution_count": 22,
      "outputs": [
        {
          "output_type": "stream",
          "name": "stdout",
          "text": [
            "Model: \"model_4\"\n",
            "_________________________________________________________________\n",
            "Layer (type)                 Output Shape              Param #   \n",
            "=================================================================\n",
            "input_10 (InputLayer)        [(None, 128, 128, 3)]     0         \n",
            "_________________________________________________________________\n",
            "tf.__operators__.getitem_4 ( (None, 128, 128, 3)       0         \n",
            "_________________________________________________________________\n",
            "tf.nn.bias_add_4 (TFOpLambda (None, 128, 128, 3)       0         \n",
            "_________________________________________________________________\n",
            "vgg16 (Functional)           (None, 4, 4, 512)         14714688  \n",
            "_________________________________________________________________\n",
            "global_average_pooling2d_4 ( (None, 512)               0         \n",
            "_________________________________________________________________\n",
            "dropout_8 (Dropout)          (None, 512)               0         \n",
            "_________________________________________________________________\n",
            "dense_8 (Dense)              (None, 512)               262656    \n",
            "_________________________________________________________________\n",
            "dropout_9 (Dropout)          (None, 512)               0         \n",
            "_________________________________________________________________\n",
            "dense_9 (Dense)              (None, 1)                 513       \n",
            "=================================================================\n",
            "Total params: 14,977,857\n",
            "Trainable params: 7,342,593\n",
            "Non-trainable params: 7,635,264\n",
            "_________________________________________________________________\n"
          ]
        }
      ]
    },
    {
      "cell_type": "markdown",
      "metadata": {
        "id": "bdZPk1Ay80r_"
      },
      "source": [
        "As you are training a much larger model and want to readapt the pretrained weights, it is important to use a lower learning rate at this stage as we do not want to make too drastic changes to the weights in the convolutional layers under fine-tuning."
      ],
      "id": "bdZPk1Ay80r_"
    },
    {
      "cell_type": "code",
      "metadata": {
        "id": "bc1da460-3c8a-40f3-a9e5-14c7b832ef79",
        "outputId": "dabb3535-9e64-4777-c27c-d12817b82529",
        "colab": {
          "base_uri": "https://localhost:8080/"
        }
      },
      "source": [
        "finetune_learning_rate = base_learning_rate / 10.\n",
        "\n",
        "model.compile(loss=\"binary_crossentropy\",\n",
        "              optimizer=keras.optimizers.Adam(learning_rate=finetune_learning_rate),\n",
        "              metrics=[\"accuracy\"])\n",
        "\n",
        "model.fit(\n",
        "    train_ds,\n",
        "    epochs=15,\n",
        "    validation_data=val_ds,\n",
        "    callbacks=[model_checkpoint_callback])"
      ],
      "id": "bc1da460-3c8a-40f3-a9e5-14c7b832ef79",
      "execution_count": 23,
      "outputs": [
        {
          "output_type": "stream",
          "name": "stdout",
          "text": [
            "Epoch 1/30\n",
            "41/41 [==============================] - 9s 144ms/step - loss: 0.6146 - accuracy: 0.7454 - val_loss: 0.6338 - val_accuracy: 0.6534\n",
            "Epoch 2/30\n",
            "41/41 [==============================] - 6s 133ms/step - loss: 0.5419 - accuracy: 0.7285 - val_loss: 0.6226 - val_accuracy: 0.6840\n",
            "Epoch 3/30\n",
            "41/41 [==============================] - 6s 134ms/step - loss: 0.4462 - accuracy: 0.7991 - val_loss: 0.6021 - val_accuracy: 0.7147\n",
            "Epoch 4/30\n",
            "41/41 [==============================] - 6s 137ms/step - loss: 0.3599 - accuracy: 0.8466 - val_loss: 0.6141 - val_accuracy: 0.7117\n",
            "Epoch 5/30\n",
            "41/41 [==============================] - 6s 135ms/step - loss: 0.3112 - accuracy: 0.8781 - val_loss: 0.5987 - val_accuracy: 0.7362\n",
            "Epoch 6/30\n",
            "41/41 [==============================] - 6s 134ms/step - loss: 0.2163 - accuracy: 0.9126 - val_loss: 0.7211 - val_accuracy: 0.7239\n",
            "Epoch 7/30\n",
            "41/41 [==============================] - 6s 135ms/step - loss: 0.1975 - accuracy: 0.9179 - val_loss: 0.6623 - val_accuracy: 0.7055\n",
            "Epoch 8/30\n",
            "41/41 [==============================] - 6s 135ms/step - loss: 0.1706 - accuracy: 0.9340 - val_loss: 0.7182 - val_accuracy: 0.7147\n",
            "Epoch 9/30\n",
            "41/41 [==============================] - 6s 134ms/step - loss: 0.1146 - accuracy: 0.9578 - val_loss: 0.8123 - val_accuracy: 0.6963\n",
            "Epoch 10/30\n",
            "41/41 [==============================] - 6s 137ms/step - loss: 0.1074 - accuracy: 0.9624 - val_loss: 0.8295 - val_accuracy: 0.7178\n",
            "Epoch 11/30\n",
            "41/41 [==============================] - 6s 135ms/step - loss: 0.0819 - accuracy: 0.9716 - val_loss: 0.9750 - val_accuracy: 0.7209\n",
            "Epoch 12/30\n",
            "41/41 [==============================] - 6s 136ms/step - loss: 0.0665 - accuracy: 0.9755 - val_loss: 1.0165 - val_accuracy: 0.7117\n",
            "Epoch 13/30\n",
            "41/41 [==============================] - 6s 134ms/step - loss: 0.0551 - accuracy: 0.9824 - val_loss: 1.1942 - val_accuracy: 0.6963\n",
            "Epoch 14/30\n",
            "41/41 [==============================] - 6s 135ms/step - loss: 0.0438 - accuracy: 0.9824 - val_loss: 1.0238 - val_accuracy: 0.7331\n",
            "Epoch 15/30\n",
            "41/41 [==============================] - 6s 135ms/step - loss: 0.0910 - accuracy: 0.9724 - val_loss: 0.9659 - val_accuracy: 0.7147\n",
            "Epoch 16/30\n",
            "41/41 [==============================] - 6s 136ms/step - loss: 0.0510 - accuracy: 0.9847 - val_loss: 1.2604 - val_accuracy: 0.7117\n",
            "Epoch 17/30\n",
            "41/41 [==============================] - 6s 135ms/step - loss: 0.0346 - accuracy: 0.9862 - val_loss: 1.1322 - val_accuracy: 0.7025\n",
            "Epoch 18/30\n",
            "41/41 [==============================] - 6s 135ms/step - loss: 0.0325 - accuracy: 0.9900 - val_loss: 1.2623 - val_accuracy: 0.7086\n",
            "Epoch 19/30\n",
            "41/41 [==============================] - 6s 135ms/step - loss: 0.0190 - accuracy: 0.9939 - val_loss: 1.3482 - val_accuracy: 0.7086\n",
            "Epoch 20/30\n",
            "41/41 [==============================] - 6s 134ms/step - loss: 0.0187 - accuracy: 0.9954 - val_loss: 1.6117 - val_accuracy: 0.6994\n",
            "Epoch 21/30\n",
            "41/41 [==============================] - 6s 135ms/step - loss: 0.0189 - accuracy: 0.9939 - val_loss: 1.5076 - val_accuracy: 0.7178\n",
            "Epoch 22/30\n",
            "41/41 [==============================] - 6s 136ms/step - loss: 0.0389 - accuracy: 0.9908 - val_loss: 1.3203 - val_accuracy: 0.7209\n",
            "Epoch 23/30\n",
            "41/41 [==============================] - 6s 135ms/step - loss: 0.0888 - accuracy: 0.9755 - val_loss: 1.1899 - val_accuracy: 0.7055\n",
            "Epoch 24/30\n",
            "41/41 [==============================] - 6s 134ms/step - loss: 0.0335 - accuracy: 0.9900 - val_loss: 1.3537 - val_accuracy: 0.7178\n",
            "Epoch 25/30\n",
            "41/41 [==============================] - 6s 136ms/step - loss: 0.0112 - accuracy: 0.9962 - val_loss: 1.6422 - val_accuracy: 0.6994\n",
            "Epoch 26/30\n",
            "41/41 [==============================] - 6s 135ms/step - loss: 0.0039 - accuracy: 1.0000 - val_loss: 1.7106 - val_accuracy: 0.7025\n",
            "Epoch 27/30\n",
            "41/41 [==============================] - 6s 136ms/step - loss: 0.0030 - accuracy: 1.0000 - val_loss: 1.8176 - val_accuracy: 0.7086\n",
            "Epoch 28/30\n",
            "41/41 [==============================] - 6s 134ms/step - loss: 0.0017 - accuracy: 1.0000 - val_loss: 1.8897 - val_accuracy: 0.7239\n",
            "Epoch 29/30\n",
            "41/41 [==============================] - 6s 135ms/step - loss: 0.0372 - accuracy: 0.9900 - val_loss: 1.4812 - val_accuracy: 0.7331\n",
            "Epoch 30/30\n",
            "41/41 [==============================] - 6s 136ms/step - loss: 0.0170 - accuracy: 0.9946 - val_loss: 1.5608 - val_accuracy: 0.6871\n"
          ]
        },
        {
          "output_type": "execute_result",
          "data": {
            "text/plain": [
              "<keras.callbacks.History at 0x7f388f206950>"
            ]
          },
          "metadata": {},
          "execution_count": 23
        }
      ]
    },
    {
      "cell_type": "code",
      "metadata": {
        "id": "2496b41f-63bd-42ca-aa6a-923a6588d4d8",
        "outputId": "3b9a5ea7-e1ca-4885-feaf-556f18628a79",
        "colab": {
          "base_uri": "https://localhost:8080/"
        }
      },
      "source": [
        "model.load_weights('best_checkpoint')\n",
        "model.evaluate(val_ds)"
      ],
      "id": "2496b41f-63bd-42ca-aa6a-923a6588d4d8",
      "execution_count": 24,
      "outputs": [
        {
          "output_type": "stream",
          "name": "stdout",
          "text": [
            "11/11 [==============================] - 1s 82ms/step - loss: 0.6027 - accuracy: 0.7362\n"
          ]
        },
        {
          "output_type": "execute_result",
          "data": {
            "text/plain": [
              "[0.6026899218559265, 0.7361963391304016]"
            ]
          },
          "metadata": {},
          "execution_count": 24
        }
      ]
    },
    {
      "cell_type": "markdown",
      "metadata": {
        "id": "RKt9lTt3_qYi"
      },
      "source": [
        "**Question:**\n",
        "\n",
        "Is our fine-tuned model performing better or worse? \n",
        "\n",
        "Provide a possible explanation to your observation. \n",
        "\n",
        "Suggest one experiment you can try to improve your model.\n",
        "\n",
        "<details><summary>Click here for answer</summary>\n",
        "It seems that our model quickly overfits, and the validation accuracy is not any better than the previous non-finetuned model. \n",
        "\n",
        "It may be because our training set is rather small, and the unfrozen layers have a lot more parameters to train, thus leading to overfitting.\n",
        "\n",
        "We can try to unfreeze less layers.\n",
        "</details>"
      ],
      "id": "RKt9lTt3_qYi"
    },
    {
      "cell_type": "code",
      "metadata": {
        "id": "PwWnNXBy_5Jj"
      },
      "source": [
        ""
      ],
      "id": "PwWnNXBy_5Jj",
      "execution_count": null,
      "outputs": []
    }
  ]
}