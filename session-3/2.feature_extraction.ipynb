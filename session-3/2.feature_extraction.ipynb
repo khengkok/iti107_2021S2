{
 "cells": [
  {
   "cell_type": "markdown",
   "metadata": {},
   "source": [
    "<a href=\"https://colab.research.google.comgithub/nyp-sit/sdaai-iti107/blob/main/session-3/improved_model.ipynb\" target=\"_parent\"><img src=\"https://colab.research.google.com/assets/colab-badge.svg\" alt=\"Open In Colab\" align=\"left\"/></a>"
   ]
  },
  {
   "cell_type": "markdown",
   "metadata": {},
   "source": [
    "# Improved model using Transfer Learning\n",
    "\n",
    "Welcome to this week's programming exercise. In this exercise, we use transfer learning to improve our baseline model. We make use of a model (VGG19) that is already trained on ImageNet and use the convolutional neural network as a feature extractor and train a classifier specifically for our emotion classification task.\n",
    "\n",
    "At the end of this exercise, you will be able to: \n",
    "- understand how to load a pretrained model with and without the classification layer  \n",
    "- extract training features using the pre-trained model as feature extractor\n",
    "- train a classifier using the extracted features \n"
   ]
  },
  {
   "cell_type": "markdown",
   "metadata": {},
   "source": [
    "Transfer learning involved using the knowledge learnt in another network (that is trained on large dataset) for some other similar task and transfer that to a new task. There are two ways to leverage a pre-trained network: feature extraction and fine-tuning. Let's start with feature extraction approach"
   ]
  },
  {
   "cell_type": "markdown",
   "metadata": {},
   "source": [
    "## Feature extraction\n",
    "\n",
    "In this approach, we only take the convolutional base of pretrained models and use it to extract features from the images, and use the extracted features as input features to train a classifier. \n",
    "<img src=\"https://nyp-aicourse.s3.ap-southeast-1.amazonaws.com/iti107/resources/swapping_fc_classifier.png\" width=\"500\" />"
   ]
  },
  {
   "cell_type": "code",
   "execution_count": 1,
   "metadata": {},
   "outputs": [],
   "source": [
    "import os\n",
    "import tensorflow as tf\n",
    "import tensorflow.keras as keras \n",
    "import numpy as np\n",
    "import tensorflow.keras.layers as layers\n",
    "\n",
    "from sklearn.metrics import classification_report"
   ]
  },
  {
   "cell_type": "markdown",
   "metadata": {},
   "source": [
    "### Using pre-trained Model as Feature Extractor"
   ]
  },
  {
   "cell_type": "markdown",
   "metadata": {},
   "source": [
    "We will be using VGG19 as our pretrained model (you can choose any other pretrained model, such as ResNet, etc). Keras comes with a set of [pretrained models](https://www.tensorflow.org/api_docs/python/tf/keras/applications) you can choose from. In the following call, we load the model VGG19 without including the classification layers (`include_top=False`). In the weights, we specify that we want to download the weights that was trained on ImageNet dataset."
   ]
  },
  {
   "cell_type": "code",
   "execution_count": 2,
   "metadata": {},
   "outputs": [],
   "source": [
    "from tensorflow.keras.applications import mobilenet_v2\n",
    "from tensorflow.keras.applications import vgg16"
   ]
  },
  {
   "cell_type": "code",
   "execution_count": 29,
   "metadata": {},
   "outputs": [],
   "source": [
    "# adjust this to larger or smaller size\n",
    "img_height, img_width = 224, 224"
   ]
  },
  {
   "cell_type": "code",
   "execution_count": 30,
   "metadata": {},
   "outputs": [
    {
     "name": "stdout",
     "output_type": "stream",
     "text": [
      "Model: \"vgg16\"\n",
      "_________________________________________________________________\n",
      "Layer (type)                 Output Shape              Param #   \n",
      "=================================================================\n",
      "input_5 (InputLayer)         [(None, 224, 224, 3)]     0         \n",
      "_________________________________________________________________\n",
      "block1_conv1 (Conv2D)        (None, 224, 224, 64)      1792      \n",
      "_________________________________________________________________\n",
      "block1_conv2 (Conv2D)        (None, 224, 224, 64)      36928     \n",
      "_________________________________________________________________\n",
      "block1_pool (MaxPooling2D)   (None, 112, 112, 64)      0         \n",
      "_________________________________________________________________\n",
      "block2_conv1 (Conv2D)        (None, 112, 112, 128)     73856     \n",
      "_________________________________________________________________\n",
      "block2_conv2 (Conv2D)        (None, 112, 112, 128)     147584    \n",
      "_________________________________________________________________\n",
      "block2_pool (MaxPooling2D)   (None, 56, 56, 128)       0         \n",
      "_________________________________________________________________\n",
      "block3_conv1 (Conv2D)        (None, 56, 56, 256)       295168    \n",
      "_________________________________________________________________\n",
      "block3_conv2 (Conv2D)        (None, 56, 56, 256)       590080    \n",
      "_________________________________________________________________\n",
      "block3_conv3 (Conv2D)        (None, 56, 56, 256)       590080    \n",
      "_________________________________________________________________\n",
      "block3_pool (MaxPooling2D)   (None, 28, 28, 256)       0         \n",
      "_________________________________________________________________\n",
      "block4_conv1 (Conv2D)        (None, 28, 28, 512)       1180160   \n",
      "_________________________________________________________________\n",
      "block4_conv2 (Conv2D)        (None, 28, 28, 512)       2359808   \n",
      "_________________________________________________________________\n",
      "block4_conv3 (Conv2D)        (None, 28, 28, 512)       2359808   \n",
      "_________________________________________________________________\n",
      "block4_pool (MaxPooling2D)   (None, 14, 14, 512)       0         \n",
      "_________________________________________________________________\n",
      "block5_conv1 (Conv2D)        (None, 14, 14, 512)       2359808   \n",
      "_________________________________________________________________\n",
      "block5_conv2 (Conv2D)        (None, 14, 14, 512)       2359808   \n",
      "_________________________________________________________________\n",
      "block5_conv3 (Conv2D)        (None, 14, 14, 512)       2359808   \n",
      "_________________________________________________________________\n",
      "block5_pool (MaxPooling2D)   (None, 7, 7, 512)         0         \n",
      "=================================================================\n",
      "Total params: 14,714,688\n",
      "Trainable params: 14,714,688\n",
      "Non-trainable params: 0\n",
      "_________________________________________________________________\n"
     ]
    }
   ],
   "source": [
    "base_model = tf.keras.applications.VGG16(input_shape=(img_height, img_width) + (3,),\n",
    "                                               include_top=False,\n",
    "                                               weights='imagenet')\n",
    "base_model.summary()"
   ]
  },
  {
   "cell_type": "markdown",
   "metadata": {},
   "source": [
    "**Question:**\n",
    "\n",
    "Examine the print out from `model.summary()`\n",
    "- What is the last layer in the pretrained model and what is the output shape? Do you have any Fully connected layers?\n",
    "\n",
    "<details><summary>Click here for answer</summary>\n",
    "\n",
    "The last layer is the MaxPooling2D layer. The output is a 512 feature maps of 4x4 size. There is no Fully connected (Dense) layers. The network is a convolutional base network.\n",
    "\n",
    "</details>"
   ]
  },
  {
   "cell_type": "markdown",
   "metadata": {},
   "source": [
    "## Creating Datasets"
   ]
  },
  {
   "cell_type": "code",
   "execution_count": 31,
   "metadata": {},
   "outputs": [],
   "source": [
    "dataset_URL = 'https://nyp-aicourse.s3.ap-southeast-1.amazonaws.com/iti107/datasets/intel_emotions_dataset.zip'\n",
    "path_to_zip = tf.keras.utils.get_file('intel_emotions_dataset.zip', origin=dataset_URL, extract=True, cache_dir='.')\n",
    "dataset_dir = os.path.dirname(path_to_zip)"
   ]
  },
  {
   "cell_type": "markdown",
   "metadata": {},
   "source": [
    "We will setup our training and validation dataset as before. "
   ]
  },
  {
   "cell_type": "code",
   "execution_count": 32,
   "metadata": {},
   "outputs": [
    {
     "name": "stdout",
     "output_type": "stream",
     "text": [
      "Found 1630 files belonging to 2 classes.\n",
      "Using 1304 files for training.\n",
      "Found 1630 files belonging to 2 classes.\n",
      "Using 326 files for validation.\n"
     ]
    }
   ],
   "source": [
    "batch_size = 16\n",
    "image_size = (img_height, img_width)\n",
    "\n",
    "train_ds = tf.keras.preprocessing.image_dataset_from_directory(\n",
    "    dataset_dir,\n",
    "    validation_split=0.2,\n",
    "    subset=\"training\",\n",
    "    seed=1337,\n",
    "    image_size=image_size,\n",
    "    batch_size=batch_size,\n",
    "    label_mode='binary'\n",
    ")\n",
    "val_ds = tf.keras.preprocessing.image_dataset_from_directory(\n",
    "    dataset_dir,\n",
    "    validation_split=0.2,\n",
    "    subset=\"validation\",\n",
    "    seed=1337,\n",
    "    image_size=image_size,\n",
    "    batch_size=batch_size,\n",
    "    label_mode='binary'\n",
    ")"
   ]
  },
  {
   "cell_type": "markdown",
   "metadata": {},
   "source": [
    "### Extracting features on the train set \n",
    "\n",
    "We use `predict()` to loop through all the train images (and also the validation images). We can also pass the images directly to the keras model, e.g. `model(images)`. The output will be the features spit out by the convolutional base. We will then use these features as our training samples instead of the original images.\n",
    "\n",
    "However, before we pass the images through the convolutional base, it is IMPORTANT to pre-process the image using the model-specific preprocessing function. Many people *FORGOT* about this step. "
   ]
  },
  {
   "cell_type": "code",
   "execution_count": 33,
   "metadata": {},
   "outputs": [],
   "source": [
    "# retrieve the preprocess_input function of vgg16 for use later \n",
    "preprocess_input_fn = vgg16.preprocess_input"
   ]
  },
  {
   "cell_type": "code",
   "execution_count": 34,
   "metadata": {},
   "outputs": [],
   "source": [
    "base_model.trainable = False\n",
    "\n",
    "def get_features_labels(dataset): \n",
    "\n",
    "    all_features = []\n",
    "    all_labels = []\n",
    "\n",
    "    for images, labels in dataset:   # each iteration yields a batch of images\n",
    "        # pre-process the features\n",
    "        preprocessed_images = preprocess_input_fn(images)\n",
    "        features = base_model(preprocessed_images)\n",
    "        all_features.append(features)\n",
    "        all_labels.append(labels)\n",
    "\n",
    "    # concatenate the features from all the batches\n",
    "    all_features, all_labels = np.concatenate(all_features), np.concatenate(all_labels)\n",
    "    \n",
    "    return all_features, all_labels\n"
   ]
  },
  {
   "cell_type": "markdown",
   "metadata": {},
   "source": [
    "Now we will call the extract function for both training dataset and validation dataset."
   ]
  },
  {
   "cell_type": "code",
   "execution_count": 35,
   "metadata": {},
   "outputs": [],
   "source": [
    "X_train, y_train = get_features_labels(train_ds)\n",
    "X_val, y_val = get_features_labels(val_ds)"
   ]
  },
  {
   "cell_type": "code",
   "execution_count": 37,
   "metadata": {},
   "outputs": [
    {
     "name": "stdout",
     "output_type": "stream",
     "text": [
      "(1304, 7, 7, 512)\n",
      "(326, 7, 7, 512)\n"
     ]
    }
   ],
   "source": [
    "# Check the shape of the features\n",
    "print(X_train.shape)\n",
    "print(X_val.shape)"
   ]
  },
  {
   "cell_type": "markdown",
   "metadata": {},
   "source": [
    "We will now save the features to local storage, as numpy arrays. We will load these features later on to be used for training our classifiers."
   ]
  },
  {
   "cell_type": "code",
   "execution_count": 44,
   "metadata": {},
   "outputs": [],
   "source": [
    "np.save(\"X_train.npy\", X_train)\n",
    "np.save(\"y_train.npy\", y_train)\n",
    "np.save(\"X_val.npy\", X_val)\n",
    "np.save(\"y_val.npy\", y_val)"
   ]
  },
  {
   "cell_type": "markdown",
   "metadata": {},
   "source": [
    "## Classification model\n",
    "\n",
    "Now we will build a new model that takes in the extracted features as input. Instead of the usual flatten layer, followed by dense layers, let us use a GAP layer, followed by Dense, a Droput and another Dense that output the prediction. \n",
    "\n",
    "**Questions:**\n",
    "\n",
    "1. What should be input shape to our model? \n",
    "2. What is the output shape of the Global Average Pooling (GAP) layer? \n",
    "3. How many units we need for output, and what should we use as activation function? \n",
    "\n",
    "Complete the code below. \n",
    "\n",
    "<details><summary>Click here for answer</summary>\n",
    "    \n",
    "1. The input shape should be (4, 4, 512) which is the output shape of our convolutional base\n",
    "2. The output shape of GAP is (512) since the maxpooling layer (the last layer) of the convolutional base has 512 feature maps (channels). \n",
    "3. We need only 1 output unit as we are doing binary classification (0 or 1) and we should use 'sigmoid' as the activation function for binary classification. \n",
    "\n",
    "Codes: \n",
    "\n",
    "```python\n",
    "inputs = layers.Input(shape=X_train.shape[1:])\n",
    "x = layers.GlobalAveragePooling2D()(inputs)\n",
    "x = layers.Dropout(rate=0.5)(x)\n",
    "x = layers.Dense(units=512, activation=\"relu\")(x)\n",
    "x = layers.Dropout(rate=0.5)(x)\n",
    "outputs = layers.Dense(units=1, activation=\"sigmoid\")(x)\n",
    "\n",
    "model_top = keras.models.Model(inputs=[inputs], outputs=[outputs], name=\"top\")\n",
    "\n",
    "model_top.compile(loss=\"binary_crossentropy\", \n",
    "                  optimizer=keras.optimizers.Adam(learning_rate=0.001), \n",
    "                  metrics=[\"accuracy\"])\n",
    "\n",
    "``` \n",
    "\n",
    "</details>\n"
   ]
  },
  {
   "cell_type": "code",
   "execution_count": 76,
   "metadata": {},
   "outputs": [],
   "source": [
    "# Build the model here, you can use either Keras Sequential or functional API to build your model\n",
    "\n",
    "### START YOUR CODE HERE ###\n",
    "\n",
    "## TODO: build your layers here, include the input and output layer\n",
    "\n",
    "inputs = layers.Input(shape=X_train.shape[1:])\n",
    "x = layers.GlobalAveragePooling2D()(inputs)\n",
    "x = layers.Dropout(rate=0.5)(x)\n",
    "x = layers.Dense(units=512, activation=\"relu\")(x)\n",
    "x = layers.Dropout(rate=0.5)(x)\n",
    "outputs = layers.Dense(units=1, activation=\"sigmoid\")(x)\n",
    "\n",
    "# define the inputs and outputs of the model \n",
    "\n",
    "model_top = keras.models.Model(inputs=[inputs], outputs=[outputs], name=\"top\")\n",
    "\n",
    "model_top.compile(loss=\"binary_crossentropy\", \n",
    "                  optimizer=keras.optimizers.Adam(learning_rate=0.001), \n",
    "                  metrics=[\"accuracy\"])\n",
    "\n",
    "### END YOUR CODE HERE ###    \n"
   ]
  },
  {
   "cell_type": "code",
   "execution_count": 77,
   "metadata": {},
   "outputs": [
    {
     "name": "stdout",
     "output_type": "stream",
     "text": [
      "Model: \"top\"\n",
      "_________________________________________________________________\n",
      "Layer (type)                 Output Shape              Param #   \n",
      "=================================================================\n",
      "input_8 (InputLayer)         [(None, 7, 7, 512)]       0         \n",
      "_________________________________________________________________\n",
      "global_average_pooling2d_3 ( (None, 512)               0         \n",
      "_________________________________________________________________\n",
      "dropout_6 (Dropout)          (None, 512)               0         \n",
      "_________________________________________________________________\n",
      "dense_6 (Dense)              (None, 512)               262656    \n",
      "_________________________________________________________________\n",
      "dropout_7 (Dropout)          (None, 512)               0         \n",
      "_________________________________________________________________\n",
      "dense_7 (Dense)              (None, 1)                 513       \n",
      "=================================================================\n",
      "Total params: 263,169\n",
      "Trainable params: 263,169\n",
      "Non-trainable params: 0\n",
      "_________________________________________________________________\n"
     ]
    }
   ],
   "source": [
    "model_top.summary()"
   ]
  },
  {
   "cell_type": "markdown",
   "metadata": {},
   "source": [
    "Now we train our classifier we the extracted features (X_train) for 100 epochs. The training will be fast, as we only have very few parameters (around 200k) to train."
   ]
  },
  {
   "cell_type": "code",
   "execution_count": 105,
   "metadata": {},
   "outputs": [],
   "source": [
    "X_train = np.load('X_train.npy')\n",
    "y_train = np.load('y_train.npy')\n",
    "X_val = np.load('X_val.npy')\n",
    "y_val = np.load('y_val.npy')"
   ]
  },
  {
   "cell_type": "code",
   "execution_count": 79,
   "metadata": {},
   "outputs": [
    {
     "name": "stdout",
     "output_type": "stream",
     "text": [
      "Epoch 1/100\n",
      "41/41 [==============================] - 1s 7ms/step - loss: 2.8793 - accuracy: 0.6005 - val_loss: 1.2293 - val_accuracy: 0.6595\n",
      "Epoch 2/100\n",
      "41/41 [==============================] - 0s 5ms/step - loss: 1.8572 - accuracy: 0.6526 - val_loss: 0.8627 - val_accuracy: 0.6748\n",
      "Epoch 3/100\n",
      "41/41 [==============================] - 0s 5ms/step - loss: 1.1904 - accuracy: 0.6994 - val_loss: 0.8843 - val_accuracy: 0.6902\n",
      "Epoch 4/100\n",
      "41/41 [==============================] - 0s 5ms/step - loss: 1.0402 - accuracy: 0.6994 - val_loss: 0.6233 - val_accuracy: 0.7055\n",
      "Epoch 5/100\n",
      "41/41 [==============================] - 0s 5ms/step - loss: 0.8441 - accuracy: 0.7147 - val_loss: 0.6178 - val_accuracy: 0.7270\n",
      "Epoch 6/100\n",
      "41/41 [==============================] - 0s 5ms/step - loss: 0.7049 - accuracy: 0.7247 - val_loss: 0.6232 - val_accuracy: 0.7301\n",
      "Epoch 7/100\n",
      "41/41 [==============================] - 0s 5ms/step - loss: 0.6522 - accuracy: 0.7316 - val_loss: 0.6000 - val_accuracy: 0.7178\n",
      "Epoch 8/100\n",
      "41/41 [==============================] - 0s 4ms/step - loss: 0.6144 - accuracy: 0.7508 - val_loss: 0.5762 - val_accuracy: 0.7209\n",
      "Epoch 9/100\n",
      "41/41 [==============================] - 0s 5ms/step - loss: 0.5796 - accuracy: 0.7354 - val_loss: 0.5588 - val_accuracy: 0.7239\n",
      "Epoch 10/100\n",
      "41/41 [==============================] - 0s 5ms/step - loss: 0.5249 - accuracy: 0.7554 - val_loss: 0.5710 - val_accuracy: 0.7239\n",
      "Epoch 11/100\n",
      "41/41 [==============================] - 0s 4ms/step - loss: 0.5168 - accuracy: 0.7615 - val_loss: 0.5752 - val_accuracy: 0.7117\n",
      "Epoch 12/100\n",
      "41/41 [==============================] - 0s 5ms/step - loss: 0.4829 - accuracy: 0.7730 - val_loss: 0.5781 - val_accuracy: 0.7147\n",
      "Epoch 13/100\n",
      "41/41 [==============================] - 0s 5ms/step - loss: 0.4684 - accuracy: 0.7753 - val_loss: 0.5760 - val_accuracy: 0.7086\n",
      "Epoch 14/100\n",
      "41/41 [==============================] - 0s 4ms/step - loss: 0.4304 - accuracy: 0.8006 - val_loss: 0.5604 - val_accuracy: 0.7362\n",
      "Epoch 15/100\n",
      "41/41 [==============================] - 0s 5ms/step - loss: 0.3966 - accuracy: 0.8221 - val_loss: 0.5546 - val_accuracy: 0.7239\n",
      "Epoch 16/100\n",
      "41/41 [==============================] - 0s 4ms/step - loss: 0.4394 - accuracy: 0.8006 - val_loss: 0.5648 - val_accuracy: 0.7331\n",
      "Epoch 17/100\n",
      "41/41 [==============================] - 0s 5ms/step - loss: 0.4139 - accuracy: 0.8198 - val_loss: 0.5564 - val_accuracy: 0.7423\n",
      "Epoch 18/100\n",
      "41/41 [==============================] - 0s 4ms/step - loss: 0.4238 - accuracy: 0.8029 - val_loss: 0.5611 - val_accuracy: 0.7393\n",
      "Epoch 19/100\n",
      "41/41 [==============================] - 0s 4ms/step - loss: 0.4290 - accuracy: 0.7991 - val_loss: 0.5490 - val_accuracy: 0.7454\n",
      "Epoch 20/100\n",
      "41/41 [==============================] - 0s 5ms/step - loss: 0.3963 - accuracy: 0.8183 - val_loss: 0.5460 - val_accuracy: 0.7638\n",
      "Epoch 21/100\n",
      "41/41 [==============================] - 0s 4ms/step - loss: 0.4095 - accuracy: 0.8090 - val_loss: 0.5506 - val_accuracy: 0.7454\n",
      "Epoch 22/100\n",
      "41/41 [==============================] - 0s 5ms/step - loss: 0.4164 - accuracy: 0.8067 - val_loss: 0.5493 - val_accuracy: 0.7454\n",
      "Epoch 23/100\n",
      "41/41 [==============================] - 0s 5ms/step - loss: 0.3529 - accuracy: 0.8466 - val_loss: 0.5472 - val_accuracy: 0.7546\n",
      "Epoch 24/100\n",
      "41/41 [==============================] - 0s 5ms/step - loss: 0.4181 - accuracy: 0.8106 - val_loss: 0.5516 - val_accuracy: 0.7393\n",
      "Epoch 25/100\n",
      "41/41 [==============================] - 0s 4ms/step - loss: 0.3518 - accuracy: 0.8413 - val_loss: 0.5382 - val_accuracy: 0.7638\n",
      "Epoch 26/100\n",
      "41/41 [==============================] - 0s 5ms/step - loss: 0.3620 - accuracy: 0.8351 - val_loss: 0.5328 - val_accuracy: 0.7607\n",
      "Epoch 27/100\n",
      "41/41 [==============================] - 0s 5ms/step - loss: 0.3626 - accuracy: 0.8359 - val_loss: 0.5609 - val_accuracy: 0.7331\n",
      "Epoch 28/100\n",
      "41/41 [==============================] - 0s 5ms/step - loss: 0.3538 - accuracy: 0.8489 - val_loss: 0.5520 - val_accuracy: 0.7423\n",
      "Epoch 29/100\n",
      "41/41 [==============================] - 0s 5ms/step - loss: 0.3504 - accuracy: 0.8390 - val_loss: 0.5586 - val_accuracy: 0.7393\n",
      "Epoch 30/100\n",
      "41/41 [==============================] - 0s 5ms/step - loss: 0.3239 - accuracy: 0.8581 - val_loss: 0.5584 - val_accuracy: 0.7485\n",
      "Epoch 31/100\n",
      "41/41 [==============================] - 0s 5ms/step - loss: 0.3427 - accuracy: 0.8436 - val_loss: 0.5516 - val_accuracy: 0.7454\n",
      "Epoch 32/100\n",
      "41/41 [==============================] - 0s 5ms/step - loss: 0.3135 - accuracy: 0.8589 - val_loss: 0.5471 - val_accuracy: 0.7423\n",
      "Epoch 33/100\n",
      "41/41 [==============================] - 0s 5ms/step - loss: 0.3341 - accuracy: 0.8520 - val_loss: 0.5422 - val_accuracy: 0.7423\n",
      "Epoch 34/100\n",
      "41/41 [==============================] - 0s 5ms/step - loss: 0.3179 - accuracy: 0.8528 - val_loss: 0.5468 - val_accuracy: 0.7485\n",
      "Epoch 35/100\n",
      "41/41 [==============================] - 0s 5ms/step - loss: 0.3247 - accuracy: 0.8497 - val_loss: 0.5797 - val_accuracy: 0.7362\n",
      "Epoch 36/100\n",
      "41/41 [==============================] - 0s 4ms/step - loss: 0.3044 - accuracy: 0.8788 - val_loss: 0.5575 - val_accuracy: 0.7577\n",
      "Epoch 37/100\n",
      "41/41 [==============================] - 0s 4ms/step - loss: 0.3179 - accuracy: 0.8658 - val_loss: 0.5490 - val_accuracy: 0.7607\n",
      "Epoch 38/100\n",
      "41/41 [==============================] - 0s 4ms/step - loss: 0.2992 - accuracy: 0.8558 - val_loss: 0.5344 - val_accuracy: 0.7669\n",
      "Epoch 39/100\n",
      "41/41 [==============================] - 0s 4ms/step - loss: 0.3187 - accuracy: 0.8620 - val_loss: 0.5435 - val_accuracy: 0.7239\n",
      "Epoch 40/100\n",
      "41/41 [==============================] - 0s 5ms/step - loss: 0.2983 - accuracy: 0.8627 - val_loss: 0.5376 - val_accuracy: 0.7730\n",
      "Epoch 41/100\n",
      "41/41 [==============================] - 0s 5ms/step - loss: 0.2895 - accuracy: 0.8681 - val_loss: 0.5301 - val_accuracy: 0.7638\n",
      "Epoch 42/100\n",
      "41/41 [==============================] - 0s 5ms/step - loss: 0.3249 - accuracy: 0.8643 - val_loss: 0.5404 - val_accuracy: 0.7515\n",
      "Epoch 43/100\n",
      "41/41 [==============================] - 0s 4ms/step - loss: 0.2754 - accuracy: 0.8681 - val_loss: 0.5536 - val_accuracy: 0.7485\n",
      "Epoch 44/100\n",
      "41/41 [==============================] - 0s 4ms/step - loss: 0.2920 - accuracy: 0.8750 - val_loss: 0.5534 - val_accuracy: 0.7546\n",
      "Epoch 45/100\n",
      "41/41 [==============================] - 0s 4ms/step - loss: 0.2866 - accuracy: 0.8750 - val_loss: 0.5757 - val_accuracy: 0.7485\n",
      "Epoch 46/100\n",
      "41/41 [==============================] - 0s 5ms/step - loss: 0.2880 - accuracy: 0.8850 - val_loss: 0.5441 - val_accuracy: 0.7577\n",
      "Epoch 47/100\n",
      "41/41 [==============================] - 0s 5ms/step - loss: 0.2915 - accuracy: 0.8773 - val_loss: 0.5463 - val_accuracy: 0.7515\n",
      "Epoch 48/100\n",
      "41/41 [==============================] - 0s 4ms/step - loss: 0.2563 - accuracy: 0.9003 - val_loss: 0.5668 - val_accuracy: 0.7423\n",
      "Epoch 49/100\n",
      "41/41 [==============================] - 0s 4ms/step - loss: 0.2914 - accuracy: 0.8781 - val_loss: 0.5490 - val_accuracy: 0.7423\n",
      "Epoch 50/100\n",
      "41/41 [==============================] - 0s 4ms/step - loss: 0.2522 - accuracy: 0.8965 - val_loss: 0.5685 - val_accuracy: 0.7577\n",
      "Epoch 51/100\n",
      "41/41 [==============================] - 0s 5ms/step - loss: 0.2863 - accuracy: 0.8834 - val_loss: 0.5707 - val_accuracy: 0.7546\n",
      "Epoch 52/100\n",
      "41/41 [==============================] - 0s 4ms/step - loss: 0.2570 - accuracy: 0.8903 - val_loss: 0.5586 - val_accuracy: 0.7454\n",
      "Epoch 53/100\n",
      "41/41 [==============================] - 0s 4ms/step - loss: 0.2663 - accuracy: 0.8850 - val_loss: 0.5549 - val_accuracy: 0.7515\n",
      "Epoch 54/100\n",
      "41/41 [==============================] - 0s 4ms/step - loss: 0.2304 - accuracy: 0.9126 - val_loss: 0.5653 - val_accuracy: 0.7515\n",
      "Epoch 55/100\n",
      "41/41 [==============================] - 0s 5ms/step - loss: 0.2523 - accuracy: 0.8949 - val_loss: 0.5716 - val_accuracy: 0.7577\n",
      "Epoch 56/100\n",
      "41/41 [==============================] - 0s 5ms/step - loss: 0.2540 - accuracy: 0.8873 - val_loss: 0.5640 - val_accuracy: 0.7515\n",
      "Epoch 57/100\n",
      "41/41 [==============================] - 0s 4ms/step - loss: 0.2530 - accuracy: 0.8957 - val_loss: 0.5719 - val_accuracy: 0.7546\n",
      "Epoch 58/100\n",
      "41/41 [==============================] - 0s 4ms/step - loss: 0.2323 - accuracy: 0.8988 - val_loss: 0.5962 - val_accuracy: 0.7607\n",
      "Epoch 59/100\n",
      "41/41 [==============================] - 0s 5ms/step - loss: 0.2498 - accuracy: 0.8972 - val_loss: 0.5812 - val_accuracy: 0.7362\n",
      "Epoch 60/100\n",
      "41/41 [==============================] - 0s 5ms/step - loss: 0.2659 - accuracy: 0.8911 - val_loss: 0.5827 - val_accuracy: 0.7117\n",
      "Epoch 61/100\n",
      "41/41 [==============================] - 0s 5ms/step - loss: 0.2479 - accuracy: 0.8995 - val_loss: 0.5817 - val_accuracy: 0.7546\n",
      "Epoch 62/100\n",
      "41/41 [==============================] - 0s 5ms/step - loss: 0.2210 - accuracy: 0.9149 - val_loss: 0.5739 - val_accuracy: 0.7331\n",
      "Epoch 63/100\n",
      "41/41 [==============================] - 0s 5ms/step - loss: 0.2199 - accuracy: 0.9110 - val_loss: 0.5913 - val_accuracy: 0.7331\n",
      "Epoch 64/100\n",
      "41/41 [==============================] - 0s 5ms/step - loss: 0.2193 - accuracy: 0.9095 - val_loss: 0.6085 - val_accuracy: 0.7454\n",
      "Epoch 65/100\n",
      "41/41 [==============================] - 0s 5ms/step - loss: 0.2561 - accuracy: 0.8980 - val_loss: 0.5806 - val_accuracy: 0.7393\n",
      "Epoch 66/100\n",
      "41/41 [==============================] - 0s 5ms/step - loss: 0.2402 - accuracy: 0.9026 - val_loss: 0.5973 - val_accuracy: 0.7331\n",
      "Epoch 67/100\n",
      "41/41 [==============================] - 0s 5ms/step - loss: 0.2111 - accuracy: 0.9156 - val_loss: 0.6058 - val_accuracy: 0.7331\n",
      "Epoch 68/100\n",
      "41/41 [==============================] - 0s 5ms/step - loss: 0.2193 - accuracy: 0.9072 - val_loss: 0.5939 - val_accuracy: 0.7393\n",
      "Epoch 69/100\n",
      "41/41 [==============================] - 0s 5ms/step - loss: 0.2103 - accuracy: 0.9095 - val_loss: 0.6135 - val_accuracy: 0.7393\n",
      "Epoch 70/100\n",
      "41/41 [==============================] - 0s 5ms/step - loss: 0.2106 - accuracy: 0.9080 - val_loss: 0.5937 - val_accuracy: 0.7454\n",
      "Epoch 71/100\n",
      "41/41 [==============================] - 0s 5ms/step - loss: 0.2334 - accuracy: 0.9018 - val_loss: 0.5799 - val_accuracy: 0.7577\n",
      "Epoch 72/100\n",
      "41/41 [==============================] - 0s 5ms/step - loss: 0.2133 - accuracy: 0.9141 - val_loss: 0.6341 - val_accuracy: 0.7423\n",
      "Epoch 73/100\n",
      "41/41 [==============================] - 0s 5ms/step - loss: 0.2391 - accuracy: 0.8995 - val_loss: 0.6351 - val_accuracy: 0.7270\n",
      "Epoch 74/100\n",
      "41/41 [==============================] - 0s 5ms/step - loss: 0.1940 - accuracy: 0.9187 - val_loss: 0.6319 - val_accuracy: 0.7362\n",
      "Epoch 75/100\n",
      "41/41 [==============================] - 0s 5ms/step - loss: 0.2322 - accuracy: 0.9110 - val_loss: 0.6001 - val_accuracy: 0.7331\n",
      "Epoch 76/100\n",
      "41/41 [==============================] - 0s 5ms/step - loss: 0.2128 - accuracy: 0.9156 - val_loss: 0.6143 - val_accuracy: 0.7301\n",
      "Epoch 77/100\n",
      "41/41 [==============================] - 0s 5ms/step - loss: 0.2104 - accuracy: 0.9133 - val_loss: 0.5785 - val_accuracy: 0.7638\n",
      "Epoch 78/100\n",
      "41/41 [==============================] - 0s 5ms/step - loss: 0.1862 - accuracy: 0.9241 - val_loss: 0.6036 - val_accuracy: 0.7423\n",
      "Epoch 79/100\n",
      "41/41 [==============================] - 0s 5ms/step - loss: 0.2133 - accuracy: 0.9072 - val_loss: 0.5979 - val_accuracy: 0.7423\n",
      "Epoch 80/100\n",
      "41/41 [==============================] - 0s 5ms/step - loss: 0.2042 - accuracy: 0.9179 - val_loss: 0.6196 - val_accuracy: 0.7485\n",
      "Epoch 81/100\n",
      "41/41 [==============================] - 0s 5ms/step - loss: 0.2176 - accuracy: 0.9118 - val_loss: 0.6333 - val_accuracy: 0.7423\n",
      "Epoch 82/100\n",
      "41/41 [==============================] - 0s 5ms/step - loss: 0.2163 - accuracy: 0.9149 - val_loss: 0.5947 - val_accuracy: 0.7577\n",
      "Epoch 83/100\n",
      "41/41 [==============================] - 0s 5ms/step - loss: 0.2035 - accuracy: 0.9149 - val_loss: 0.6225 - val_accuracy: 0.7270\n",
      "Epoch 84/100\n",
      "41/41 [==============================] - 0s 5ms/step - loss: 0.1756 - accuracy: 0.9294 - val_loss: 0.6458 - val_accuracy: 0.7546\n",
      "Epoch 85/100\n",
      "41/41 [==============================] - 0s 5ms/step - loss: 0.1743 - accuracy: 0.9310 - val_loss: 0.6479 - val_accuracy: 0.7515\n",
      "Epoch 86/100\n",
      "41/41 [==============================] - 0s 5ms/step - loss: 0.2001 - accuracy: 0.9095 - val_loss: 0.6468 - val_accuracy: 0.7607\n",
      "Epoch 87/100\n",
      "41/41 [==============================] - 0s 5ms/step - loss: 0.1883 - accuracy: 0.9302 - val_loss: 0.6312 - val_accuracy: 0.7515\n",
      "Epoch 88/100\n",
      "41/41 [==============================] - 0s 5ms/step - loss: 0.1910 - accuracy: 0.9256 - val_loss: 0.6095 - val_accuracy: 0.7485\n",
      "Epoch 89/100\n",
      "41/41 [==============================] - 0s 5ms/step - loss: 0.2054 - accuracy: 0.9233 - val_loss: 0.6267 - val_accuracy: 0.7362\n",
      "Epoch 90/100\n",
      "41/41 [==============================] - 0s 5ms/step - loss: 0.1988 - accuracy: 0.9187 - val_loss: 0.6867 - val_accuracy: 0.7362\n",
      "Epoch 91/100\n",
      "41/41 [==============================] - 0s 5ms/step - loss: 0.1767 - accuracy: 0.9310 - val_loss: 0.6564 - val_accuracy: 0.7393\n",
      "Epoch 92/100\n",
      "41/41 [==============================] - 0s 5ms/step - loss: 0.2218 - accuracy: 0.9141 - val_loss: 0.6204 - val_accuracy: 0.7515\n",
      "Epoch 93/100\n",
      "41/41 [==============================] - 0s 4ms/step - loss: 0.1997 - accuracy: 0.9302 - val_loss: 0.6518 - val_accuracy: 0.7669\n",
      "Epoch 94/100\n",
      "41/41 [==============================] - 0s 5ms/step - loss: 0.1841 - accuracy: 0.9302 - val_loss: 0.6290 - val_accuracy: 0.7485\n",
      "Epoch 95/100\n",
      "41/41 [==============================] - 0s 5ms/step - loss: 0.1848 - accuracy: 0.9325 - val_loss: 0.6946 - val_accuracy: 0.7270\n",
      "Epoch 96/100\n",
      "41/41 [==============================] - 0s 5ms/step - loss: 0.1804 - accuracy: 0.9294 - val_loss: 0.6887 - val_accuracy: 0.7423\n",
      "Epoch 97/100\n",
      "41/41 [==============================] - 0s 5ms/step - loss: 0.1995 - accuracy: 0.9187 - val_loss: 0.6817 - val_accuracy: 0.7423\n",
      "Epoch 98/100\n",
      "41/41 [==============================] - 0s 5ms/step - loss: 0.1963 - accuracy: 0.9356 - val_loss: 0.6615 - val_accuracy: 0.7423\n",
      "Epoch 99/100\n",
      "41/41 [==============================] - 0s 5ms/step - loss: 0.1813 - accuracy: 0.9271 - val_loss: 0.6601 - val_accuracy: 0.7699\n",
      "Epoch 100/100\n",
      "41/41 [==============================] - 0s 5ms/step - loss: 0.1914 - accuracy: 0.9302 - val_loss: 0.6711 - val_accuracy: 0.7454\n"
     ]
    }
   ],
   "source": [
    "# we will now load the extracted features from the files we save to earlier \n",
    "\n",
    "\n",
    "model_checkpoint_callback = tf.keras.callbacks.ModelCheckpoint(\n",
    "    filepath=\"best_checkpoint\",\n",
    "    save_weights_only=True,\n",
    "    monitor='val_accuracy',\n",
    "    mode='max',\n",
    "    save_best_only=True)\n",
    "\n",
    "hist_top = model_top.fit(X_train, y_train, \n",
    "                         epochs=100, \n",
    "                         validation_data=(X_val, y_val), \n",
    "                         callbacks=[model_checkpoint_callback])\n"
   ]
  },
  {
   "cell_type": "code",
   "execution_count": 82,
   "metadata": {},
   "outputs": [],
   "source": [
    "model_top.load_weights('best_checkpoint')\n",
    "y_preds = model_top.predict(X_val)"
   ]
  },
  {
   "cell_type": "code",
   "execution_count": 83,
   "metadata": {},
   "outputs": [
    {
     "name": "stdout",
     "output_type": "stream",
     "text": [
      "              precision    recall  f1-score   support\n",
      "\n",
      "         0.0       0.76      0.80      0.78       162\n",
      "         1.0       0.79      0.74      0.77       164\n",
      "\n",
      "    accuracy                           0.77       326\n",
      "   macro avg       0.77      0.77      0.77       326\n",
      "weighted avg       0.77      0.77      0.77       326\n",
      "\n"
     ]
    }
   ],
   "source": [
    "print(classification_report(y_val, y_preds.flatten() >= 0.5))"
   ]
  },
  {
   "cell_type": "code",
   "execution_count": 98,
   "metadata": {},
   "outputs": [
    {
     "name": "stdout",
     "output_type": "stream",
     "text": [
      "[[False]\n",
      " [ True]\n",
      " [ True]\n",
      " [ True]\n",
      " [ True]\n",
      " [False]\n",
      " [ True]\n",
      " [False]\n",
      " [False]\n",
      " [ True]]\n"
     ]
    }
   ],
   "source": [
    "print(y_preds[:10])"
   ]
  },
  {
   "cell_type": "code",
   "execution_count": 102,
   "metadata": {},
   "outputs": [
    {
     "name": "stdout",
     "output_type": "stream",
     "text": [
      "[[0.]\n",
      " [1.]\n",
      " [1.]\n",
      " [0.]\n",
      " [1.]\n",
      " [1.]\n",
      " [0.]\n",
      " [0.]\n",
      " [1.]\n",
      " [1.]]\n"
     ]
    }
   ],
   "source": [
    "print(y_val[:10])"
   ]
  },
  {
   "cell_type": "markdown",
   "metadata": {},
   "source": [
    "You should see an good improvement in the model (should be around 30%). The model also takes much less time to train. "
   ]
  },
  {
   "cell_type": "markdown",
   "metadata": {},
   "source": [
    "## Prepare the model for deployment\n",
    "\n",
    "We cannot just use our `model_top` that is trained for image classification, as it take extracted features as input, not images. We need to stick back our convolutional base and use an input layer of appropriate shape. This is what we are going to do below."
   ]
  },
  {
   "cell_type": "code",
   "execution_count": 84,
   "metadata": {},
   "outputs": [],
   "source": [
    "inputs = layers.Input(shape=(img_height, img_width, 3))\n",
    "x = preprocess_input_fn(inputs)\n",
    "x = base_model(x)\n",
    "outputs = model_top(x)\n",
    "\n",
    "model_final = keras.models.Model(inputs=[inputs], outputs=[outputs])\n",
    "model_final.compile(loss=\"binary_crossentropy\", \n",
    "                  optimizer=keras.optimizers.Adam(learning_rate=0.001), \n",
    "                  metrics=[\"accuracy\"])\n",
    "\n",
    "# inputs = layers.Input(shape=(150, 150, 3))\n",
    "# x = preprocess_input_fn(inputs)\n",
    "# x = conv_base(x)\n",
    "# top_outputs = model_top(x)\n",
    "# model_final = Model(inputs=[inputs], outputs=[top_outputs])\n",
    "# model_final.compile(loss=\"binary_crossentropy\", optimizer=optimizers.RMSprop(lr=2e-5), metrics=['acc'])\n",
    "# model_final.summary()\n",
    "# model_final.save(\"final_model\")"
   ]
  },
  {
   "cell_type": "code",
   "execution_count": 85,
   "metadata": {},
   "outputs": [
    {
     "name": "stdout",
     "output_type": "stream",
     "text": [
      "Model: \"model_3\"\n",
      "_________________________________________________________________\n",
      "Layer (type)                 Output Shape              Param #   \n",
      "=================================================================\n",
      "input_9 (InputLayer)         [(None, 224, 224, 3)]     0         \n",
      "_________________________________________________________________\n",
      "tf.__operators__.getitem (Sl (None, 224, 224, 3)       0         \n",
      "_________________________________________________________________\n",
      "tf.nn.bias_add (TFOpLambda)  (None, 224, 224, 3)       0         \n",
      "_________________________________________________________________\n",
      "vgg16 (Functional)           (None, 7, 7, 512)         14714688  \n",
      "_________________________________________________________________\n",
      "top (Functional)             (None, 1)                 263169    \n",
      "=================================================================\n",
      "Total params: 14,977,857\n",
      "Trainable params: 263,169\n",
      "Non-trainable params: 14,714,688\n",
      "_________________________________________________________________\n"
     ]
    }
   ],
   "source": [
    "model_final.summary()"
   ]
  },
  {
   "cell_type": "code",
   "execution_count": 86,
   "metadata": {},
   "outputs": [
    {
     "name": "stdout",
     "output_type": "stream",
     "text": [
      "INFO:tensorflow:Assets written to: full_model/assets\n"
     ]
    }
   ],
   "source": [
    "model_final.save(\"full_model\")"
   ]
  },
  {
   "cell_type": "code",
   "execution_count": 90,
   "metadata": {},
   "outputs": [
    {
     "name": "stdout",
     "output_type": "stream",
     "text": [
      "21/21 [==============================] - 2s 114ms/step - loss: 0.5376 - accuracy: 0.7730\n"
     ]
    },
    {
     "data": {
      "text/plain": [
       "[0.5376476645469666, 0.7730061411857605]"
      ]
     },
     "execution_count": 90,
     "metadata": {},
     "output_type": "execute_result"
    }
   ],
   "source": [
    "model_final.evaluate(val_ds)"
   ]
  },
  {
   "cell_type": "markdown",
   "metadata": {},
   "source": [
    "Now let just test our full model on the images from validation set."
   ]
  },
  {
   "cell_type": "code",
   "execution_count": 125,
   "metadata": {},
   "outputs": [],
   "source": [
    "all_images = []\n",
    "all_labels = []\n",
    "iterator1 = val_ds.as_numpy_iterator()\n",
    "for images, labels in iterator1:\n",
    "    all_labels.append(labels)\n",
    "    all_images.append(images)\n",
    "\n",
    "all_labels = np.concatenate(all_labels, axis=0)\n",
    "all_images = np.concatenate(all_images, axis=0)"
   ]
  },
  {
   "cell_type": "code",
   "execution_count": 127,
   "metadata": {},
   "outputs": [
    {
     "name": "stdout",
     "output_type": "stream",
     "text": [
      "326\n"
     ]
    }
   ],
   "source": [
    "y_pred_probs = model_final.predict(all_images)\n",
    "# convert probabilities into classification label based on threshold of 0.5 \n",
    "y_preds = y_pred_probs > 0.5\n",
    "print(len(y_preds))"
   ]
  },
  {
   "cell_type": "code",
   "execution_count": 128,
   "metadata": {},
   "outputs": [
    {
     "name": "stdout",
     "output_type": "stream",
     "text": [
      "              precision    recall  f1-score   support\n",
      "\n",
      "         0.0       0.76      0.80      0.78       162\n",
      "         1.0       0.79      0.74      0.77       164\n",
      "\n",
      "    accuracy                           0.77       326\n",
      "   macro avg       0.77      0.77      0.77       326\n",
      "weighted avg       0.77      0.77      0.77       326\n",
      "\n"
     ]
    }
   ],
   "source": [
    "print(classification_report(all_labels, y_preds))"
   ]
  },
  {
   "cell_type": "markdown",
   "metadata": {},
   "source": [
    "### Extra exercises\n",
    "\n",
    "Try another pre-trained model such as MobileNetV2 or EfficientNetB0. \n"
   ]
  },
  {
   "cell_type": "code",
   "execution_count": null,
   "metadata": {},
   "outputs": [],
   "source": []
  }
 ],
 "metadata": {
  "anaconda-cloud": {},
  "kernelspec": {
   "display_name": "Python 3 (ipykernel)",
   "language": "python",
   "name": "python3"
  },
  "language_info": {
   "codemirror_mode": {
    "name": "ipython",
    "version": 3
   },
   "file_extension": ".py",
   "mimetype": "text/x-python",
   "name": "python",
   "nbconvert_exporter": "python",
   "pygments_lexer": "ipython3",
   "version": "3.8.11"
  },
  "toc": {
   "colors": {
    "hover_highlight": "#DAA520",
    "navigate_num": "#000000",
    "navigate_text": "#333333",
    "running_highlight": "#FF0000",
    "selected_highlight": "#FFD700",
    "sidebar_border": "#EEEEEE",
    "wrapper_background": "#FFFFFF"
   },
   "moveMenuLeft": true,
   "nav_menu": {
    "height": "12px",
    "width": "252px"
   },
   "navigate_menu": true,
   "number_sections": true,
   "sideBar": true,
   "threshold": 4,
   "toc_cell": false,
   "toc_section_display": "block",
   "toc_window_display": false,
   "widenNotebook": false
  }
 },
 "nbformat": 4,
 "nbformat_minor": 4
}
