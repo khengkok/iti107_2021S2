{
 "cells": [
  {
   "cell_type": "markdown",
   "metadata": {
    "colab_type": "text",
    "id": "view-in-github"
   },
   "source": [
    "<a href=\"https://colab.research.google.com/github/nyp-sit/it3103/blob/main/week4/2.feature_extraction.ipynb\" target=\"_parent\"><img src=\"https://colab.research.google.com/assets/colab-badge.svg\" alt=\"Open In Colab\"/></a>"
   ]
  },
  {
   "cell_type": "markdown",
   "metadata": {
    "id": "KzhOTiHVcQW1"
   },
   "source": [
    "# Transfer learning - Feature Extraction\n",
    "\n",
    "Welcome to this week's programming exercise. In this exercise, we use transfer learning to improve our baseline model. We will use a pre-trained model (VGG19) as a feature extractor and use the extracted features to train a classifier for our emotion classification task.\n",
    "\n",
    "At the end of this exercise, you will be able to: \n",
    "- understand how to load a pretrained model with and without the classification layer  \n",
    "- extract features using the pre-trained model as feature extractor\n",
    "- train a classifier using the extracted features \n"
   ]
  },
  {
   "cell_type": "markdown",
   "metadata": {
    "id": "zE_WxnF6cQW2"
   },
   "source": [
    "Transfer learning involved using the \"knowledge\" learnt from another task (e.g. doing image classification on a large dataset such as ImageNet) and transfer that knowledge to a new and related task (e.g doing image classification on different types of objects than the original ones or for doing object detection). There are two ways to leverage a pre-trained network: feature extraction and fine-tuning. Let's start with feature extraction approach. "
   ]
  },
  {
   "cell_type": "markdown",
   "metadata": {
    "id": "LhhojEoUcQW2"
   },
   "source": [
    "## Feature extraction\n",
    "\n",
    "In this approach, we only take the convolutional base of a pretrained model and use it to extract features from the images, and use the extracted features as input features to train a separate classifier. \n",
    "\n",
    "<img src=\"https://nyp-aicourse.s3.ap-southeast-1.amazonaws.com/it3103/resources/swapping_fc_classifier.png\" width=\"500\" />"
   ]
  },
  {
   "cell_type": "markdown",
   "metadata": {
    "id": "Q-jVRqR4cQW4"
   },
   "source": [
    "### Using pre-trained Model as Feature Extractor\n",
    "\n",
    "We will be using VGG19 as our pretrained model (you can choose any other pretrained model, such as ResNet, etc). Keras comes with a set of [pretrained models](https://www.tensorflow.org/api_docs/python/tf/keras/applications) you can choose from. In the following call, we load the model VGG19 without including the classification layers (`include_top=False`). In the weights, we specify that we want to download the weights that was trained on ImageNet dataset."
   ]
  },
  {
   "cell_type": "code",
   "execution_count": 1,
   "metadata": {
    "id": "3YwEl2QzcQW3"
   },
   "outputs": [],
   "source": [
    "import os\n",
    "import tensorflow as tf\n",
    "import tensorflow.keras as keras \n",
    "import numpy as np\n",
    "import tensorflow.keras.layers as layers\n",
    "from tensorflow.keras.applications import vgg16\n",
    "from sklearn.metrics import classification_report"
   ]
  },
  {
   "cell_type": "code",
   "execution_count": 2,
   "metadata": {
    "id": "hOOmRfUJcQW6"
   },
   "outputs": [
    {
     "name": "stderr",
     "output_type": "stream",
     "text": [
      "2021-11-27 23:17:40.741323: I tensorflow/stream_executor/cuda/cuda_gpu_executor.cc:925] could not open file to read NUMA node: /sys/bus/pci/devices/0000:01:00.0/numa_node\n",
      "Your kernel may have been built without NUMA support.\n",
      "2021-11-27 23:17:40.817231: I tensorflow/stream_executor/cuda/cuda_gpu_executor.cc:925] could not open file to read NUMA node: /sys/bus/pci/devices/0000:01:00.0/numa_node\n",
      "Your kernel may have been built without NUMA support.\n",
      "2021-11-27 23:17:40.817558: I tensorflow/stream_executor/cuda/cuda_gpu_executor.cc:925] could not open file to read NUMA node: /sys/bus/pci/devices/0000:01:00.0/numa_node\n",
      "Your kernel may have been built without NUMA support.\n",
      "2021-11-27 23:17:40.819673: I tensorflow/core/platform/cpu_feature_guard.cc:151] This TensorFlow binary is optimized with oneAPI Deep Neural Network Library (oneDNN) to use the following CPU instructions in performance-critical operations:  AVX2 FMA\n",
      "To enable them in other operations, rebuild TensorFlow with the appropriate compiler flags.\n",
      "2021-11-27 23:17:40.822067: I tensorflow/stream_executor/cuda/cuda_gpu_executor.cc:925] could not open file to read NUMA node: /sys/bus/pci/devices/0000:01:00.0/numa_node\n",
      "Your kernel may have been built without NUMA support.\n",
      "2021-11-27 23:17:40.822431: I tensorflow/stream_executor/cuda/cuda_gpu_executor.cc:925] could not open file to read NUMA node: /sys/bus/pci/devices/0000:01:00.0/numa_node\n",
      "Your kernel may have been built without NUMA support.\n",
      "2021-11-27 23:17:40.822738: I tensorflow/stream_executor/cuda/cuda_gpu_executor.cc:925] could not open file to read NUMA node: /sys/bus/pci/devices/0000:01:00.0/numa_node\n",
      "Your kernel may have been built without NUMA support.\n",
      "2021-11-27 23:17:41.919472: I tensorflow/stream_executor/cuda/cuda_gpu_executor.cc:925] could not open file to read NUMA node: /sys/bus/pci/devices/0000:01:00.0/numa_node\n",
      "Your kernel may have been built without NUMA support.\n",
      "2021-11-27 23:17:41.920118: I tensorflow/stream_executor/cuda/cuda_gpu_executor.cc:925] could not open file to read NUMA node: /sys/bus/pci/devices/0000:01:00.0/numa_node\n",
      "Your kernel may have been built without NUMA support.\n",
      "2021-11-27 23:17:41.920132: I tensorflow/core/common_runtime/gpu/gpu_device.cc:1609] Could not identify NUMA node of platform GPU id 0, defaulting to 0.  Your kernel may not have been built with NUMA support.\n",
      "2021-11-27 23:17:41.920598: I tensorflow/stream_executor/cuda/cuda_gpu_executor.cc:925] could not open file to read NUMA node: /sys/bus/pci/devices/0000:01:00.0/numa_node\n",
      "Your kernel may have been built without NUMA support.\n",
      "2021-11-27 23:17:41.921505: I tensorflow/core/common_runtime/gpu/gpu_device.cc:1525] Created device /job:localhost/replica:0/task:0/device:GPU:0 with 2109 MB memory:  -> device: 0, name: NVIDIA GeForce GTX 1650 Ti, pci bus id: 0000:01:00.0, compute capability: 7.5\n"
     ]
    },
    {
     "name": "stdout",
     "output_type": "stream",
     "text": [
      "Downloading data from https://storage.googleapis.com/tensorflow/keras-applications/vgg16/vgg16_weights_tf_dim_ordering_tf_kernels_notop.h5\n",
      "58892288/58889256 [==============================] - 7s 0us/step\n",
      "58900480/58889256 [==============================] - 7s 0us/step\n",
      "Model: \"vgg16\"\n",
      "_________________________________________________________________\n",
      " Layer (type)                Output Shape              Param #   \n",
      "=================================================================\n",
      " input_1 (InputLayer)        [(None, 128, 128, 3)]     0         \n",
      "                                                                 \n",
      " block1_conv1 (Conv2D)       (None, 128, 128, 64)      1792      \n",
      "                                                                 \n",
      " block1_conv2 (Conv2D)       (None, 128, 128, 64)      36928     \n",
      "                                                                 \n",
      " block1_pool (MaxPooling2D)  (None, 64, 64, 64)        0         \n",
      "                                                                 \n",
      " block2_conv1 (Conv2D)       (None, 64, 64, 128)       73856     \n",
      "                                                                 \n",
      " block2_conv2 (Conv2D)       (None, 64, 64, 128)       147584    \n",
      "                                                                 \n",
      " block2_pool (MaxPooling2D)  (None, 32, 32, 128)       0         \n",
      "                                                                 \n",
      " block3_conv1 (Conv2D)       (None, 32, 32, 256)       295168    \n",
      "                                                                 \n",
      " block3_conv2 (Conv2D)       (None, 32, 32, 256)       590080    \n",
      "                                                                 \n",
      " block3_conv3 (Conv2D)       (None, 32, 32, 256)       590080    \n",
      "                                                                 \n",
      " block3_pool (MaxPooling2D)  (None, 16, 16, 256)       0         \n",
      "                                                                 \n",
      " block4_conv1 (Conv2D)       (None, 16, 16, 512)       1180160   \n",
      "                                                                 \n",
      " block4_conv2 (Conv2D)       (None, 16, 16, 512)       2359808   \n",
      "                                                                 \n",
      " block4_conv3 (Conv2D)       (None, 16, 16, 512)       2359808   \n",
      "                                                                 \n",
      " block4_pool (MaxPooling2D)  (None, 8, 8, 512)         0         \n",
      "                                                                 \n",
      " block5_conv1 (Conv2D)       (None, 8, 8, 512)         2359808   \n",
      "                                                                 \n",
      " block5_conv2 (Conv2D)       (None, 8, 8, 512)         2359808   \n",
      "                                                                 \n",
      " block5_conv3 (Conv2D)       (None, 8, 8, 512)         2359808   \n",
      "                                                                 \n",
      " block5_pool (MaxPooling2D)  (None, 4, 4, 512)         0         \n",
      "                                                                 \n",
      "=================================================================\n",
      "Total params: 14,714,688\n",
      "Trainable params: 14,714,688\n",
      "Non-trainable params: 0\n",
      "_________________________________________________________________\n"
     ]
    }
   ],
   "source": [
    "# Specify the intended image size we want\n",
    "img_height, img_width = 128, 128\n",
    "base_model = tf.keras.applications.VGG16(input_shape=(img_height, img_width) + (3,),\n",
    "                                         include_top=False,\n",
    "                                         weights='imagenet')\n",
    "base_model.summary()"
   ]
  },
  {
   "cell_type": "markdown",
   "metadata": {
    "id": "WUCJI-mBcQW7"
   },
   "source": [
    "**Exercise:**\n",
    "\n",
    "Examine the print out from `model.summary()`\n",
    "- What is the last layer in the pretrained model and what is the output shape? Do you have any Fully connected layers?\n",
    "\n",
    "<details><summary>Click here for answer</summary>\n",
    "\n",
    "The last layer is the MaxPooling2D layer. The output is a 512 feature maps of 4x4 size. There is no Fully connected (Dense) layers. The network is a convolutional base network.\n",
    "\n",
    "</details>"
   ]
  },
  {
   "cell_type": "markdown",
   "metadata": {
    "id": "w1G3q88hcQW8"
   },
   "source": [
    "## Creating Datasets\n",
    "\n",
    "We will setup our training and validation dataset as we did in earlier exercise."
   ]
  },
  {
   "cell_type": "code",
   "execution_count": 3,
   "metadata": {
    "id": "3YNaBmEecQW8"
   },
   "outputs": [
    {
     "name": "stdout",
     "output_type": "stream",
     "text": [
      "Downloading data from https://nyp-aicourse.s3-ap-southeast-1.amazonaws.com/datasets/cats_and_dogs_subset.tar.gz\n",
      "67043328/67041740 [==============================] - 9s 0us/step\n",
      "67051520/67041740 [==============================] - 9s 0us/step\n"
     ]
    }
   ],
   "source": [
    "dataset_URL = 'https://nyp-aicourse.s3-ap-southeast-1.amazonaws.com/datasets/cats_and_dogs_subset.tar.gz'\n",
    "path_to_zip = tf.keras.utils.get_file('cats_and_dogs_subset.tar.gz', origin=dataset_URL, extract=True, cache_dir='.')\n",
    "dataset_dir = os.path.join(os.path.dirname(path_to_zip), \"cats_and_dogs_subset\")"
   ]
  },
  {
   "cell_type": "code",
   "execution_count": 4,
   "metadata": {
    "id": "_wnngZlZcQW9"
   },
   "outputs": [
    {
     "name": "stdout",
     "output_type": "stream",
     "text": [
      "Found 3000 files belonging to 2 classes.\n",
      "Using 2400 files for training.\n",
      "Found 3000 files belonging to 2 classes.\n",
      "Using 600 files for validation.\n"
     ]
    }
   ],
   "source": [
    "batch_size = 32\n",
    "\n",
    "# resize all the images to the same size as expected by VGG model we downloaded above\n",
    "image_size = (img_height, img_width)\n",
    "\n",
    "train_ds = tf.keras.preprocessing.image_dataset_from_directory(\n",
    "    dataset_dir,\n",
    "    validation_split=0.2,\n",
    "    subset=\"training\",\n",
    "    seed=1337,\n",
    "    image_size=image_size,\n",
    "    batch_size=batch_size,\n",
    "    label_mode='binary'\n",
    ")\n",
    "val_ds = tf.keras.preprocessing.image_dataset_from_directory(\n",
    "    dataset_dir,\n",
    "    validation_split=0.2,\n",
    "    subset=\"validation\",\n",
    "    seed=1337,\n",
    "    image_size=image_size,\n",
    "    batch_size=batch_size,\n",
    "    label_mode='binary'\n",
    ")"
   ]
  },
  {
   "cell_type": "markdown",
   "metadata": {
    "id": "1QWlVQdkcQW9"
   },
   "source": [
    "### Extracting features on the train set \n",
    "\n",
    "We will first define a function to perform feature extraction, given an image dataset. \n",
    "\n",
    "We can use `predict()` of the model to loop through all the train images (and also the validation images), or just pass the images directly to the keras model, e.g. `model(images)`. The output will be the features spit out by the convolutional base. We will then use these features as our training samples instead of the original images.\n",
    "\n",
    "However, before we pass the images through the convolutional base, it is IMPORTANT to pre-process the image using the model-specific preprocessing function. Many people *FORGOT* about this step. Different model expect the images to be of specific range of values (e.g. some models expect the pixel values to be between 0 and 1, some between -1 and 1) and specific channel ordering (e.g. VGGNet expects the channel to be BGR). So we need to make sure our images are pre-processed according to what the model expects."
   ]
  },
  {
   "cell_type": "code",
   "execution_count": 5,
   "metadata": {
    "id": "sD7rPV3zcQW9"
   },
   "outputs": [],
   "source": [
    "# retrieve the preprocess_input function of vgg16 for use later \n",
    "preprocess_input_fn = vgg16.preprocess_input"
   ]
  },
  {
   "cell_type": "code",
   "execution_count": 6,
   "metadata": {
    "id": "W90bXhWHcQW-"
   },
   "outputs": [],
   "source": [
    "base_model.trainable = False\n",
    "\n",
    "def get_features_labels(dataset): \n",
    "\n",
    "    all_features = []\n",
    "    all_labels = []\n",
    "\n",
    "    for images, labels in dataset:   # each iteration yields a batch of images\n",
    "        # pre-process the features\n",
    "        preprocessed_images = preprocess_input_fn(images)\n",
    "        features = base_model(preprocessed_images)\n",
    "        \n",
    "        # append the batch of features to all_features and all_labels\n",
    "        all_features.append(features)\n",
    "        all_labels.append(labels)\n",
    "\n",
    "    # concatenate the features from all the batches\n",
    "    all_features, all_labels = np.concatenate(all_features), np.concatenate(all_labels)\n",
    "    \n",
    "    return all_features, all_labels\n"
   ]
  },
  {
   "cell_type": "markdown",
   "metadata": {
    "id": "ijgudSr7cQW-"
   },
   "source": [
    "Now we will call the extract function on both training dataset and validation dataset."
   ]
  },
  {
   "cell_type": "code",
   "execution_count": 7,
   "metadata": {
    "id": "Kb5ThObpcQW-"
   },
   "outputs": [
    {
     "name": "stderr",
     "output_type": "stream",
     "text": [
      "2021-11-27 23:18:14.590698: I tensorflow/stream_executor/cuda/cuda_dnn.cc:366] Loaded cuDNN version 8204\n",
      "2021-11-27 23:18:16.401107: I tensorflow/core/platform/default/subprocess.cc:304] Start cannot spawn child process: No such file or directory\n",
      "2021-11-27 23:18:18.281139: W tensorflow/core/common_runtime/bfc_allocator.cc:275] Allocator (GPU_0_bfc) ran out of memory trying to allocate 3.04GiB with freed_by_count=0. The caller indicates that this is not a failure, but may mean that there could be performance gains if more memory were available.\n",
      "2021-11-27 23:18:18.281600: W tensorflow/core/common_runtime/bfc_allocator.cc:275] Allocator (GPU_0_bfc) ran out of memory trying to allocate 3.04GiB with freed_by_count=0. The caller indicates that this is not a failure, but may mean that there could be performance gains if more memory were available.\n",
      "2021-11-27 23:18:18.706736: W tensorflow/core/common_runtime/bfc_allocator.cc:275] Allocator (GPU_0_bfc) ran out of memory trying to allocate 2.55GiB with freed_by_count=0. The caller indicates that this is not a failure, but may mean that there could be performance gains if more memory were available.\n",
      "2021-11-27 23:18:18.706822: W tensorflow/core/common_runtime/bfc_allocator.cc:275] Allocator (GPU_0_bfc) ran out of memory trying to allocate 2.55GiB with freed_by_count=0. The caller indicates that this is not a failure, but may mean that there could be performance gains if more memory were available.\n",
      "2021-11-27 23:18:19.073221: W tensorflow/core/common_runtime/bfc_allocator.cc:275] Allocator (GPU_0_bfc) ran out of memory trying to allocate 2.34GiB with freed_by_count=0. The caller indicates that this is not a failure, but may mean that there could be performance gains if more memory were available.\n",
      "2021-11-27 23:18:19.073306: W tensorflow/core/common_runtime/bfc_allocator.cc:275] Allocator (GPU_0_bfc) ran out of memory trying to allocate 2.34GiB with freed_by_count=0. The caller indicates that this is not a failure, but may mean that there could be performance gains if more memory were available.\n",
      "2021-11-27 23:18:19.435051: W tensorflow/core/common_runtime/bfc_allocator.cc:275] Allocator (GPU_0_bfc) ran out of memory trying to allocate 2.28GiB with freed_by_count=0. The caller indicates that this is not a failure, but may mean that there could be performance gains if more memory were available.\n",
      "2021-11-27 23:18:19.435129: W tensorflow/core/common_runtime/bfc_allocator.cc:275] Allocator (GPU_0_bfc) ran out of memory trying to allocate 2.28GiB with freed_by_count=0. The caller indicates that this is not a failure, but may mean that there could be performance gains if more memory were available.\n",
      "2021-11-27 23:18:29.229179: W tensorflow/core/common_runtime/bfc_allocator.cc:275] Allocator (GPU_0_bfc) ran out of memory trying to allocate 2.79GiB with freed_by_count=0. The caller indicates that this is not a failure, but may mean that there could be performance gains if more memory were available.\n",
      "2021-11-27 23:18:29.229267: W tensorflow/core/common_runtime/bfc_allocator.cc:275] Allocator (GPU_0_bfc) ran out of memory trying to allocate 2.79GiB with freed_by_count=0. The caller indicates that this is not a failure, but may mean that there could be performance gains if more memory were available.\n"
     ]
    }
   ],
   "source": [
    "# Extract features and labels for train set\n",
    "X_train, y_train = get_features_labels(train_ds)\n",
    "\n",
    "# Extract features and labels for validation set\n",
    "X_val, y_val = get_features_labels(val_ds)"
   ]
  },
  {
   "cell_type": "code",
   "execution_count": 8,
   "metadata": {
    "id": "dNQvgD4EcQW-"
   },
   "outputs": [
    {
     "name": "stdout",
     "output_type": "stream",
     "text": [
      "(2400, 4, 4, 512)\n",
      "(600, 4, 4, 512)\n"
     ]
    }
   ],
   "source": [
    "# Check the shape of the features\n",
    "print(X_train.shape)\n",
    "print(X_val.shape)"
   ]
  },
  {
   "cell_type": "markdown",
   "metadata": {
    "id": "YZrc_5cVcQW_"
   },
   "source": [
    "We will now save the features to local storage, as numpy arrays. We will load these features later on to be used for training our classifiers."
   ]
  },
  {
   "cell_type": "code",
   "execution_count": 9,
   "metadata": {
    "id": "8CirH4sWcQW_"
   },
   "outputs": [],
   "source": [
    "np.save(\"X_train.npy\", X_train)\n",
    "np.save(\"y_train.npy\", y_train)\n",
    "np.save(\"X_val.npy\", X_val)\n",
    "np.save(\"y_val.npy\", y_val)"
   ]
  },
  {
   "cell_type": "markdown",
   "metadata": {
    "id": "RKldlOhOcQW_"
   },
   "source": [
    "## Classification model\n",
    "\n",
    "Now we will build a new classification model that takes in the extracted features as input. Instead of the usual flatten layer, followed by dense layers, let us use a GAP layer, followed by Dense (with 512 units), a Dropout (with 50%) and another Dense that output the prediction. Compile your model using Adam with a learning rate of 0.001.\n",
    "\n",
    "**Exercise:**\n",
    "\n",
    "1. What should be input shape to our model? \n",
    "2. What is the output shape of the Global Average Pooling (GAP) layer? \n",
    "3. How many units we need for output, and what should we use as activation function? \n",
    "\n",
    "Complete the code below. \n",
    "\n",
    "<details><summary>Click here for answer</summary>\n",
    "    \n",
    "1. The input shape should be (4, 4, 512) which is the output shape of our convolutional base\n",
    "2. The output shape of GAP is (512) since the maxpooling layer (the last layer) of the convolutional base has 512 feature maps (channels). \n",
    "3. We need only 1 output unit as we are doing binary classification (0 or 1) and we should use 'sigmoid' as the activation function for binary classification. \n",
    "\n",
    "Codes: \n",
    "\n",
    "```python\n",
    "inputs = layers.Input(shape=X_train.shape[1:])\n",
    "x = layers.GlobalAveragePooling2D()(inputs)\n",
    "x = layers.Dropout(rate=0.5)(x)\n",
    "x = layers.Dense(units=512, activation=\"relu\")(x)\n",
    "x = layers.Dropout(rate=0.5)(x)\n",
    "outputs = layers.Dense(units=1, activation=\"sigmoid\")(x)\n",
    "\n",
    "model_top = keras.models.Model(inputs=[inputs], outputs=[outputs], name=\"top\")\n",
    "\n",
    "model_top.compile(loss=\"binary_crossentropy\", \n",
    "                  optimizer=keras.optimizers.Adam(learning_rate=0.001), \n",
    "                  metrics=[\"accuracy\"])\n",
    "\n",
    "``` \n",
    "\n",
    "</details>\n"
   ]
  },
  {
   "cell_type": "code",
   "execution_count": 10,
   "metadata": {
    "id": "trMqDpjPcQW_"
   },
   "outputs": [],
   "source": [
    "## TODO: build your classification model here, try to use functional API to do so.\n",
    "\n",
    "inputs = layers.Input(shape=X_train.shape[1:])\n",
    "x = layers.GlobalAveragePooling2D()(inputs)\n",
    "x = layers.Dropout(rate=0.5)(x)\n",
    "x = layers.Dense(units=512, activation=\"relu\")(x)\n",
    "x = layers.Dropout(rate=0.5)(x)\n",
    "outputs = layers.Dense(units=1, activation=\"sigmoid\")(x)\n",
    "\n",
    "model_top = keras.models.Model(inputs=[inputs], outputs=[outputs], name=\"top\")\n",
    "\n",
    "model_top.compile(loss=\"binary_crossentropy\", \n",
    "                  optimizer=keras.optimizers.Adam(learning_rate=0.001), \n",
    "                  metrics=[\"accuracy\"])"
   ]
  },
  {
   "cell_type": "code",
   "execution_count": 11,
   "metadata": {
    "id": "8oOdyJjYcQW_"
   },
   "outputs": [
    {
     "name": "stdout",
     "output_type": "stream",
     "text": [
      "Model: \"top\"\n",
      "_________________________________________________________________\n",
      " Layer (type)                Output Shape              Param #   \n",
      "=================================================================\n",
      " input_2 (InputLayer)        [(None, 4, 4, 512)]       0         \n",
      "                                                                 \n",
      " global_average_pooling2d (G  (None, 512)              0         \n",
      " lobalAveragePooling2D)                                          \n",
      "                                                                 \n",
      " dropout (Dropout)           (None, 512)               0         \n",
      "                                                                 \n",
      " dense (Dense)               (None, 512)               262656    \n",
      "                                                                 \n",
      " dropout_1 (Dropout)         (None, 512)               0         \n",
      "                                                                 \n",
      " dense_1 (Dense)             (None, 1)                 513       \n",
      "                                                                 \n",
      "=================================================================\n",
      "Total params: 263,169\n",
      "Trainable params: 263,169\n",
      "Non-trainable params: 0\n",
      "_________________________________________________________________\n"
     ]
    }
   ],
   "source": [
    "model_top.summary()"
   ]
  },
  {
   "cell_type": "markdown",
   "metadata": {
    "id": "JVJWxOVgcQXA"
   },
   "source": [
    "Now we train our classifier we the extracted features (X_train) for 100 epochs. The training will be fast, as we only have very few parameters (around 200k) to train."
   ]
  },
  {
   "cell_type": "code",
   "execution_count": 12,
   "metadata": {
    "id": "jBd_NrImcQXA"
   },
   "outputs": [],
   "source": [
    "# we will now load the extracted features from the files we save to earlier\n",
    "X_train = np.load('X_train.npy')\n",
    "y_train = np.load('y_train.npy')\n",
    "X_val = np.load('X_val.npy')\n",
    "y_val = np.load('y_val.npy')"
   ]
  },
  {
   "cell_type": "code",
   "execution_count": 13,
   "metadata": {
    "id": "eczFKxhZm6ON"
   },
   "outputs": [],
   "source": [
    "# create the tensorboard callback\n",
    "import os\n",
    "import time\n",
    "\n",
    "root_logdir = os.path.join(os.curdir, \"tb_logs\")\n",
    "\n",
    "def get_run_logdir():    # use a new directory for each run\n",
    "    run_id = time.strftime(\"run_%Y_%m_%d-%H_%M_%S\")\n",
    "    return os.path.join(root_logdir, run_id)\n",
    "\n",
    "run_logdir = get_run_logdir()\n",
    "tb_callback = tf.keras.callbacks.TensorBoard(run_logdir)\n",
    "\n",
    "# create model checkpoint callback to save the best model checkpoint\n",
    "model_checkpoint_callback = tf.keras.callbacks.ModelCheckpoint(\n",
    "    filepath=\"best_checkpoint\",\n",
    "    save_weights_only=True,\n",
    "    monitor='val_accuracy',\n",
    "    mode='max',\n",
    "    save_best_only=True)"
   ]
  },
  {
   "cell_type": "code",
   "execution_count": 14,
   "metadata": {
    "id": "iKqD1T86cQXA"
   },
   "outputs": [
    {
     "name": "stdout",
     "output_type": "stream",
     "text": [
      "Epoch 1/100\n",
      "75/75 [==============================] - 1s 8ms/step - loss: 1.9433 - accuracy: 0.8512 - val_loss: 0.5573 - val_accuracy: 0.9367\n",
      "Epoch 2/100\n",
      "75/75 [==============================] - 0s 5ms/step - loss: 0.9328 - accuracy: 0.9046 - val_loss: 0.5632 - val_accuracy: 0.9333\n",
      "Epoch 3/100\n",
      "75/75 [==============================] - 0s 5ms/step - loss: 0.7008 - accuracy: 0.9262 - val_loss: 0.4407 - val_accuracy: 0.9367\n",
      "Epoch 4/100\n",
      "75/75 [==============================] - 0s 4ms/step - loss: 0.6467 - accuracy: 0.9162 - val_loss: 0.2472 - val_accuracy: 0.9350\n",
      "Epoch 5/100\n",
      "75/75 [==============================] - 0s 4ms/step - loss: 0.3798 - accuracy: 0.9246 - val_loss: 0.2736 - val_accuracy: 0.9333\n",
      "Epoch 6/100\n",
      "75/75 [==============================] - 0s 5ms/step - loss: 0.3537 - accuracy: 0.9242 - val_loss: 0.1508 - val_accuracy: 0.9400\n",
      "Epoch 7/100\n",
      "75/75 [==============================] - 0s 5ms/step - loss: 0.3150 - accuracy: 0.9358 - val_loss: 0.1455 - val_accuracy: 0.9350\n",
      "Epoch 8/100\n",
      "75/75 [==============================] - 0s 5ms/step - loss: 0.2664 - accuracy: 0.9350 - val_loss: 0.1415 - val_accuracy: 0.9433\n",
      "Epoch 9/100\n",
      "75/75 [==============================] - 0s 4ms/step - loss: 0.2115 - accuracy: 0.9329 - val_loss: 0.1429 - val_accuracy: 0.9317\n",
      "Epoch 10/100\n",
      "75/75 [==============================] - 0s 4ms/step - loss: 0.1927 - accuracy: 0.9354 - val_loss: 0.1723 - val_accuracy: 0.9233\n",
      "Epoch 11/100\n",
      "75/75 [==============================] - 0s 4ms/step - loss: 0.1755 - accuracy: 0.9475 - val_loss: 0.1546 - val_accuracy: 0.9350\n",
      "Epoch 12/100\n",
      "75/75 [==============================] - 0s 4ms/step - loss: 0.1672 - accuracy: 0.9383 - val_loss: 0.1492 - val_accuracy: 0.9383\n",
      "Epoch 13/100\n",
      "75/75 [==============================] - 0s 4ms/step - loss: 0.1761 - accuracy: 0.9425 - val_loss: 0.1316 - val_accuracy: 0.9483\n",
      "Epoch 14/100\n",
      "75/75 [==============================] - 0s 4ms/step - loss: 0.1408 - accuracy: 0.9471 - val_loss: 0.1553 - val_accuracy: 0.9400\n",
      "Epoch 15/100\n",
      "75/75 [==============================] - 0s 5ms/step - loss: 0.1370 - accuracy: 0.9525 - val_loss: 0.1506 - val_accuracy: 0.9350\n",
      "Epoch 16/100\n",
      "75/75 [==============================] - 0s 5ms/step - loss: 0.1298 - accuracy: 0.9454 - val_loss: 0.1350 - val_accuracy: 0.9450\n",
      "Epoch 17/100\n",
      "75/75 [==============================] - 0s 4ms/step - loss: 0.1272 - accuracy: 0.9567 - val_loss: 0.1271 - val_accuracy: 0.9500\n",
      "Epoch 18/100\n",
      "75/75 [==============================] - 0s 5ms/step - loss: 0.1200 - accuracy: 0.9488 - val_loss: 0.1397 - val_accuracy: 0.9467\n",
      "Epoch 19/100\n",
      "75/75 [==============================] - 0s 4ms/step - loss: 0.1273 - accuracy: 0.9471 - val_loss: 0.1371 - val_accuracy: 0.9500\n",
      "Epoch 20/100\n",
      "75/75 [==============================] - 0s 4ms/step - loss: 0.1165 - accuracy: 0.9538 - val_loss: 0.1561 - val_accuracy: 0.9383\n",
      "Epoch 21/100\n",
      "75/75 [==============================] - 0s 4ms/step - loss: 0.1182 - accuracy: 0.9529 - val_loss: 0.1316 - val_accuracy: 0.9500\n",
      "Epoch 22/100\n",
      "75/75 [==============================] - 0s 4ms/step - loss: 0.1179 - accuracy: 0.9558 - val_loss: 0.1375 - val_accuracy: 0.9433\n",
      "Epoch 23/100\n",
      "75/75 [==============================] - 0s 4ms/step - loss: 0.1137 - accuracy: 0.9592 - val_loss: 0.1326 - val_accuracy: 0.9467\n",
      "Epoch 24/100\n",
      "75/75 [==============================] - 0s 4ms/step - loss: 0.1005 - accuracy: 0.9646 - val_loss: 0.1327 - val_accuracy: 0.9433\n",
      "Epoch 25/100\n",
      "75/75 [==============================] - 0s 5ms/step - loss: 0.1024 - accuracy: 0.9613 - val_loss: 0.1346 - val_accuracy: 0.9517\n",
      "Epoch 26/100\n",
      "75/75 [==============================] - 0s 3ms/step - loss: 0.1116 - accuracy: 0.9588 - val_loss: 0.1357 - val_accuracy: 0.9433\n",
      "Epoch 27/100\n",
      "75/75 [==============================] - 0s 4ms/step - loss: 0.1200 - accuracy: 0.9583 - val_loss: 0.1382 - val_accuracy: 0.9467\n",
      "Epoch 28/100\n",
      "75/75 [==============================] - 0s 4ms/step - loss: 0.1164 - accuracy: 0.9579 - val_loss: 0.1415 - val_accuracy: 0.9367\n",
      "Epoch 29/100\n",
      "75/75 [==============================] - 0s 5ms/step - loss: 0.1191 - accuracy: 0.9563 - val_loss: 0.1356 - val_accuracy: 0.9467\n",
      "Epoch 30/100\n",
      "75/75 [==============================] - 0s 4ms/step - loss: 0.1045 - accuracy: 0.9592 - val_loss: 0.1376 - val_accuracy: 0.9483\n",
      "Epoch 31/100\n",
      "75/75 [==============================] - 0s 4ms/step - loss: 0.1182 - accuracy: 0.9533 - val_loss: 0.1372 - val_accuracy: 0.9467\n",
      "Epoch 32/100\n",
      "75/75 [==============================] - 0s 5ms/step - loss: 0.1011 - accuracy: 0.9592 - val_loss: 0.1858 - val_accuracy: 0.9067\n",
      "Epoch 33/100\n",
      "75/75 [==============================] - 0s 4ms/step - loss: 0.1054 - accuracy: 0.9600 - val_loss: 0.1429 - val_accuracy: 0.9417\n",
      "Epoch 34/100\n",
      "75/75 [==============================] - 0s 5ms/step - loss: 0.1009 - accuracy: 0.9688 - val_loss: 0.1337 - val_accuracy: 0.9483\n",
      "Epoch 35/100\n",
      "75/75 [==============================] - 0s 5ms/step - loss: 0.0834 - accuracy: 0.9667 - val_loss: 0.1347 - val_accuracy: 0.9433\n",
      "Epoch 36/100\n",
      "75/75 [==============================] - 0s 4ms/step - loss: 0.1055 - accuracy: 0.9613 - val_loss: 0.1323 - val_accuracy: 0.9467\n",
      "Epoch 37/100\n",
      "75/75 [==============================] - 0s 4ms/step - loss: 0.0941 - accuracy: 0.9625 - val_loss: 0.1421 - val_accuracy: 0.9533\n",
      "Epoch 38/100\n",
      "75/75 [==============================] - 0s 4ms/step - loss: 0.1012 - accuracy: 0.9575 - val_loss: 0.1660 - val_accuracy: 0.9333\n",
      "Epoch 39/100\n",
      "75/75 [==============================] - 0s 5ms/step - loss: 0.0869 - accuracy: 0.9683 - val_loss: 0.1410 - val_accuracy: 0.9533\n",
      "Epoch 40/100\n",
      "75/75 [==============================] - 0s 4ms/step - loss: 0.0780 - accuracy: 0.9700 - val_loss: 0.1348 - val_accuracy: 0.9533\n",
      "Epoch 41/100\n",
      "75/75 [==============================] - 0s 5ms/step - loss: 0.0951 - accuracy: 0.9650 - val_loss: 0.1267 - val_accuracy: 0.9517\n",
      "Epoch 42/100\n",
      "75/75 [==============================] - 0s 4ms/step - loss: 0.0841 - accuracy: 0.9700 - val_loss: 0.1391 - val_accuracy: 0.9400\n",
      "Epoch 43/100\n",
      "75/75 [==============================] - 0s 4ms/step - loss: 0.1056 - accuracy: 0.9633 - val_loss: 0.1379 - val_accuracy: 0.9450\n",
      "Epoch 44/100\n",
      "75/75 [==============================] - 0s 5ms/step - loss: 0.0753 - accuracy: 0.9654 - val_loss: 0.1276 - val_accuracy: 0.9517\n",
      "Epoch 45/100\n",
      "75/75 [==============================] - 0s 5ms/step - loss: 0.0779 - accuracy: 0.9746 - val_loss: 0.1236 - val_accuracy: 0.9517\n",
      "Epoch 46/100\n",
      "75/75 [==============================] - 0s 4ms/step - loss: 0.0797 - accuracy: 0.9733 - val_loss: 0.1256 - val_accuracy: 0.9450\n",
      "Epoch 47/100\n",
      "75/75 [==============================] - 0s 4ms/step - loss: 0.1011 - accuracy: 0.9658 - val_loss: 0.1326 - val_accuracy: 0.9350\n",
      "Epoch 48/100\n",
      "75/75 [==============================] - 0s 4ms/step - loss: 0.0848 - accuracy: 0.9692 - val_loss: 0.1418 - val_accuracy: 0.9417\n",
      "Epoch 49/100\n",
      "75/75 [==============================] - 0s 4ms/step - loss: 0.0936 - accuracy: 0.9671 - val_loss: 0.1303 - val_accuracy: 0.9517\n",
      "Epoch 50/100\n",
      "75/75 [==============================] - 0s 4ms/step - loss: 0.0823 - accuracy: 0.9683 - val_loss: 0.1436 - val_accuracy: 0.9383\n",
      "Epoch 51/100\n",
      "75/75 [==============================] - 0s 5ms/step - loss: 0.0706 - accuracy: 0.9737 - val_loss: 0.1221 - val_accuracy: 0.9500\n",
      "Epoch 52/100\n",
      "75/75 [==============================] - 0s 5ms/step - loss: 0.0855 - accuracy: 0.9683 - val_loss: 0.1284 - val_accuracy: 0.9483\n",
      "Epoch 53/100\n",
      "75/75 [==============================] - 0s 5ms/step - loss: 0.0730 - accuracy: 0.9742 - val_loss: 0.1221 - val_accuracy: 0.9533\n",
      "Epoch 54/100\n",
      "75/75 [==============================] - 0s 5ms/step - loss: 0.0827 - accuracy: 0.9667 - val_loss: 0.1290 - val_accuracy: 0.9433\n",
      "Epoch 55/100\n",
      "75/75 [==============================] - 0s 5ms/step - loss: 0.0813 - accuracy: 0.9696 - val_loss: 0.1095 - val_accuracy: 0.9583\n",
      "Epoch 56/100\n",
      "75/75 [==============================] - 0s 5ms/step - loss: 0.0768 - accuracy: 0.9692 - val_loss: 0.1361 - val_accuracy: 0.9517\n",
      "Epoch 57/100\n",
      "75/75 [==============================] - 0s 5ms/step - loss: 0.0719 - accuracy: 0.9742 - val_loss: 0.1198 - val_accuracy: 0.9483\n",
      "Epoch 58/100\n",
      "75/75 [==============================] - 0s 5ms/step - loss: 0.0721 - accuracy: 0.9729 - val_loss: 0.1177 - val_accuracy: 0.9483\n",
      "Epoch 59/100\n",
      "75/75 [==============================] - 0s 4ms/step - loss: 0.0961 - accuracy: 0.9721 - val_loss: 0.1248 - val_accuracy: 0.9483\n",
      "Epoch 60/100\n",
      "75/75 [==============================] - 0s 5ms/step - loss: 0.0834 - accuracy: 0.9729 - val_loss: 0.1358 - val_accuracy: 0.9350\n",
      "Epoch 61/100\n",
      "75/75 [==============================] - 0s 4ms/step - loss: 0.0871 - accuracy: 0.9712 - val_loss: 0.1381 - val_accuracy: 0.9483\n",
      "Epoch 62/100\n",
      "75/75 [==============================] - 0s 5ms/step - loss: 0.0760 - accuracy: 0.9712 - val_loss: 0.1440 - val_accuracy: 0.9450\n",
      "Epoch 63/100\n",
      "75/75 [==============================] - 0s 5ms/step - loss: 0.0727 - accuracy: 0.9725 - val_loss: 0.1329 - val_accuracy: 0.9467\n",
      "Epoch 64/100\n",
      "75/75 [==============================] - 0s 4ms/step - loss: 0.0821 - accuracy: 0.9683 - val_loss: 0.1463 - val_accuracy: 0.9483\n",
      "Epoch 65/100\n",
      "75/75 [==============================] - 0s 5ms/step - loss: 0.0874 - accuracy: 0.9725 - val_loss: 0.1578 - val_accuracy: 0.9417\n",
      "Epoch 66/100\n",
      "75/75 [==============================] - 0s 4ms/step - loss: 0.0862 - accuracy: 0.9704 - val_loss: 0.1453 - val_accuracy: 0.9567\n",
      "Epoch 67/100\n",
      "75/75 [==============================] - 0s 5ms/step - loss: 0.0777 - accuracy: 0.9750 - val_loss: 0.1596 - val_accuracy: 0.9350\n",
      "Epoch 68/100\n",
      "75/75 [==============================] - 0s 4ms/step - loss: 0.0686 - accuracy: 0.9771 - val_loss: 0.1365 - val_accuracy: 0.9400\n",
      "Epoch 69/100\n",
      "75/75 [==============================] - 0s 5ms/step - loss: 0.0736 - accuracy: 0.9733 - val_loss: 0.1618 - val_accuracy: 0.9383\n",
      "Epoch 70/100\n",
      "75/75 [==============================] - 0s 4ms/step - loss: 0.0720 - accuracy: 0.9742 - val_loss: 0.1631 - val_accuracy: 0.9350\n",
      "Epoch 71/100\n",
      "75/75 [==============================] - 0s 4ms/step - loss: 0.0918 - accuracy: 0.9658 - val_loss: 0.1588 - val_accuracy: 0.9350\n",
      "Epoch 72/100\n",
      "75/75 [==============================] - 0s 4ms/step - loss: 0.0699 - accuracy: 0.9762 - val_loss: 0.1273 - val_accuracy: 0.9450\n",
      "Epoch 73/100\n",
      "75/75 [==============================] - 0s 5ms/step - loss: 0.0724 - accuracy: 0.9721 - val_loss: 0.1450 - val_accuracy: 0.9400\n",
      "Epoch 74/100\n",
      "75/75 [==============================] - 0s 4ms/step - loss: 0.0791 - accuracy: 0.9692 - val_loss: 0.1427 - val_accuracy: 0.9500\n",
      "Epoch 75/100\n",
      "75/75 [==============================] - 0s 5ms/step - loss: 0.0656 - accuracy: 0.9746 - val_loss: 0.1362 - val_accuracy: 0.9533\n",
      "Epoch 76/100\n",
      "75/75 [==============================] - 0s 5ms/step - loss: 0.0875 - accuracy: 0.9700 - val_loss: 0.1417 - val_accuracy: 0.9500\n",
      "Epoch 77/100\n",
      "75/75 [==============================] - 0s 5ms/step - loss: 0.0731 - accuracy: 0.9692 - val_loss: 0.1433 - val_accuracy: 0.9483\n",
      "Epoch 78/100\n",
      "75/75 [==============================] - 0s 4ms/step - loss: 0.0602 - accuracy: 0.9804 - val_loss: 0.1437 - val_accuracy: 0.9450\n",
      "Epoch 79/100\n",
      "75/75 [==============================] - 0s 5ms/step - loss: 0.0699 - accuracy: 0.9775 - val_loss: 0.1479 - val_accuracy: 0.9450\n",
      "Epoch 80/100\n",
      "75/75 [==============================] - 0s 5ms/step - loss: 0.0684 - accuracy: 0.9742 - val_loss: 0.1406 - val_accuracy: 0.9433\n",
      "Epoch 81/100\n",
      "75/75 [==============================] - 0s 4ms/step - loss: 0.0660 - accuracy: 0.9775 - val_loss: 0.1193 - val_accuracy: 0.9517\n",
      "Epoch 82/100\n",
      "75/75 [==============================] - 0s 4ms/step - loss: 0.0673 - accuracy: 0.9758 - val_loss: 0.1272 - val_accuracy: 0.9417\n",
      "Epoch 83/100\n",
      "75/75 [==============================] - 0s 4ms/step - loss: 0.0676 - accuracy: 0.9746 - val_loss: 0.1432 - val_accuracy: 0.9400\n",
      "Epoch 84/100\n",
      "75/75 [==============================] - 0s 5ms/step - loss: 0.0797 - accuracy: 0.9717 - val_loss: 0.1783 - val_accuracy: 0.9317\n",
      "Epoch 85/100\n",
      "75/75 [==============================] - 0s 5ms/step - loss: 0.0765 - accuracy: 0.9725 - val_loss: 0.1340 - val_accuracy: 0.9483\n",
      "Epoch 86/100\n",
      "75/75 [==============================] - 0s 5ms/step - loss: 0.0861 - accuracy: 0.9692 - val_loss: 0.1767 - val_accuracy: 0.9367\n",
      "Epoch 87/100\n",
      "75/75 [==============================] - 0s 4ms/step - loss: 0.0630 - accuracy: 0.9733 - val_loss: 0.1392 - val_accuracy: 0.9483\n",
      "Epoch 88/100\n",
      "75/75 [==============================] - 0s 4ms/step - loss: 0.0564 - accuracy: 0.9787 - val_loss: 0.1627 - val_accuracy: 0.9333\n",
      "Epoch 89/100\n",
      "75/75 [==============================] - 0s 4ms/step - loss: 0.0596 - accuracy: 0.9796 - val_loss: 0.1436 - val_accuracy: 0.9500\n",
      "Epoch 90/100\n",
      "75/75 [==============================] - 0s 5ms/step - loss: 0.0674 - accuracy: 0.9796 - val_loss: 0.1303 - val_accuracy: 0.9417\n",
      "Epoch 91/100\n",
      "75/75 [==============================] - 0s 5ms/step - loss: 0.0632 - accuracy: 0.9792 - val_loss: 0.1336 - val_accuracy: 0.9467\n",
      "Epoch 92/100\n",
      "75/75 [==============================] - 0s 5ms/step - loss: 0.0846 - accuracy: 0.9725 - val_loss: 0.1299 - val_accuracy: 0.9450\n",
      "Epoch 93/100\n",
      "75/75 [==============================] - 0s 5ms/step - loss: 0.0617 - accuracy: 0.9762 - val_loss: 0.1337 - val_accuracy: 0.9467\n",
      "Epoch 94/100\n",
      "75/75 [==============================] - 0s 5ms/step - loss: 0.0818 - accuracy: 0.9712 - val_loss: 0.1326 - val_accuracy: 0.9567\n",
      "Epoch 95/100\n",
      "75/75 [==============================] - 0s 5ms/step - loss: 0.0700 - accuracy: 0.9787 - val_loss: 0.1314 - val_accuracy: 0.9483\n",
      "Epoch 96/100\n",
      "75/75 [==============================] - 0s 5ms/step - loss: 0.0612 - accuracy: 0.9779 - val_loss: 0.1395 - val_accuracy: 0.9483\n",
      "Epoch 97/100\n",
      "75/75 [==============================] - 0s 5ms/step - loss: 0.0649 - accuracy: 0.9792 - val_loss: 0.1535 - val_accuracy: 0.9383\n",
      "Epoch 98/100\n",
      "75/75 [==============================] - 0s 4ms/step - loss: 0.0748 - accuracy: 0.9775 - val_loss: 0.1532 - val_accuracy: 0.9433\n",
      "Epoch 99/100\n",
      "75/75 [==============================] - 0s 4ms/step - loss: 0.0615 - accuracy: 0.9800 - val_loss: 0.1293 - val_accuracy: 0.9467\n",
      "Epoch 100/100\n",
      "75/75 [==============================] - 0s 5ms/step - loss: 0.0519 - accuracy: 0.9842 - val_loss: 0.1887 - val_accuracy: 0.9333\n"
     ]
    },
    {
     "data": {
      "text/plain": [
       "<keras.callbacks.History at 0x7f88c403d070>"
      ]
     },
     "execution_count": 14,
     "metadata": {},
     "output_type": "execute_result"
    }
   ],
   "source": [
    "model_top.fit(X_train, y_train, \n",
    "              epochs=100, \n",
    "              validation_data=(X_val, y_val), \n",
    "              callbacks=[tb_callback, model_checkpoint_callback])\n"
   ]
  },
  {
   "cell_type": "code",
   "execution_count": 15,
   "metadata": {
    "id": "IwMQWsPfn8Wf"
   },
   "outputs": [
    {
     "data": {
      "text/html": [
       "\n",
       "      <iframe id=\"tensorboard-frame-a7e4d324aaeb43c1\" width=\"100%\" height=\"800\" frameborder=\"0\">\n",
       "      </iframe>\n",
       "      <script>\n",
       "        (function() {\n",
       "          const frame = document.getElementById(\"tensorboard-frame-a7e4d324aaeb43c1\");\n",
       "          const url = new URL(\"/\", window.location);\n",
       "          const port = 6006;\n",
       "          if (port) {\n",
       "            url.port = port;\n",
       "          }\n",
       "          frame.src = url;\n",
       "        })();\n",
       "      </script>\n",
       "    "
      ],
      "text/plain": [
       "<IPython.core.display.HTML object>"
      ]
     },
     "metadata": {},
     "output_type": "display_data"
    }
   ],
   "source": [
    "%load_ext tensorboard\n",
    "%tensorboard --logdir tb_logs"
   ]
  },
  {
   "cell_type": "markdown",
   "metadata": {
    "id": "TOqWHsbXoN3K"
   },
   "source": [
    "Let's load the best-performing model checkpoints and use it to compute classification report."
   ]
  },
  {
   "cell_type": "code",
   "execution_count": 16,
   "metadata": {
    "id": "DPP1F8f4cQXA"
   },
   "outputs": [
    {
     "name": "stdout",
     "output_type": "stream",
     "text": [
      "              precision    recall  f1-score   support\n",
      "\n",
      "         0.0       0.95      0.97      0.96       292\n",
      "         1.0       0.97      0.95      0.96       308\n",
      "\n",
      "    accuracy                           0.96       600\n",
      "   macro avg       0.96      0.96      0.96       600\n",
      "weighted avg       0.96      0.96      0.96       600\n",
      "\n"
     ]
    }
   ],
   "source": [
    "model_top.load_weights('best_checkpoint')\n",
    "y_preds = model_top.predict(X_val)\n",
    "\n",
    "# flatten the 2d array into 1D\n",
    "y_preds = y_preds.flatten() >= 0.5\n",
    "\n",
    "print(classification_report(y_val, y_preds))"
   ]
  },
  {
   "cell_type": "markdown",
   "metadata": {
    "id": "2bs-21XRcQXB"
   },
   "source": [
    "You should see an good improvement in the model compared to your previous result. The model also takes much less time to train. "
   ]
  },
  {
   "cell_type": "markdown",
   "metadata": {
    "id": "XqrdAJdwcQXB"
   },
   "source": [
    "## Prepare the model for deployment\n",
    "\n",
    "We cannot use our `model_top` directly for image classification, as it take extracted features as input, not images. We need to stick back our convolutional base that can take in images directly. This is what we are going to do below. It is also important to include the model-specific pre-processing function as one of the layer."
   ]
  },
  {
   "cell_type": "code",
   "execution_count": 17,
   "metadata": {
    "id": "IIU3MBx7cQXB"
   },
   "outputs": [
    {
     "name": "stdout",
     "output_type": "stream",
     "text": [
      "Model: \"model\"\n",
      "_________________________________________________________________\n",
      " Layer (type)                Output Shape              Param #   \n",
      "=================================================================\n",
      " input_3 (InputLayer)        [(None, 128, 128, 3)]     0         \n",
      "                                                                 \n",
      " tf.__operators__.getitem (S  (None, 128, 128, 3)      0         \n",
      " licingOpLambda)                                                 \n",
      "                                                                 \n",
      " tf.nn.bias_add (TFOpLambda)  (None, 128, 128, 3)      0         \n",
      "                                                                 \n",
      " vgg16 (Functional)          (None, 4, 4, 512)         14714688  \n",
      "                                                                 \n",
      " top (Functional)            (None, 1)                 263169    \n",
      "                                                                 \n",
      "=================================================================\n",
      "Total params: 14,977,857\n",
      "Trainable params: 263,169\n",
      "Non-trainable params: 14,714,688\n",
      "_________________________________________________________________\n"
     ]
    }
   ],
   "source": [
    "# specify the input layer with appropriate image shape\n",
    "inputs = layers.Input(shape=(img_height, img_width, 3))\n",
    "\n",
    "# import to include model-specific preprocess function\n",
    "x = preprocess_input_fn(inputs)\n",
    "\n",
    "x = base_model(x)\n",
    "outputs = model_top(x)\n",
    "\n",
    "model_full = keras.models.Model(inputs=[inputs], outputs=[outputs])\n",
    "model_full.compile(loss=\"binary_crossentropy\", \n",
    "                  optimizer=keras.optimizers.Adam(learning_rate=0.001), \n",
    "                  metrics=[\"accuracy\"])\n",
    "\n",
    "model_full.summary()"
   ]
  },
  {
   "cell_type": "code",
   "execution_count": 18,
   "metadata": {
    "id": "yGf_nY58cQXC"
   },
   "outputs": [
    {
     "name": "stderr",
     "output_type": "stream",
     "text": [
      "2021-11-27 23:19:58.719937: W tensorflow/python/util/util.cc:368] Sets are not currently considered sequences, but this may change in the future, so consider avoiding using them.\n"
     ]
    },
    {
     "name": "stdout",
     "output_type": "stream",
     "text": [
      "INFO:tensorflow:Assets written to: full_model/assets\n"
     ]
    }
   ],
   "source": [
    "model_full.save(\"full_model\")"
   ]
  },
  {
   "cell_type": "markdown",
   "metadata": {
    "id": "9ciRBIOgqtQ5"
   },
   "source": [
    "Let's make sure our full model works on the validation dataset (which are images) and gives the same accuracy as before."
   ]
  },
  {
   "cell_type": "code",
   "execution_count": 19,
   "metadata": {
    "id": "DaBScJj3cQXC"
   },
   "outputs": [
    {
     "name": "stdout",
     "output_type": "stream",
     "text": [
      "19/19 [==============================] - 8s 233ms/step - loss: 0.1095 - accuracy: 0.9583\n"
     ]
    },
    {
     "data": {
      "text/plain": [
       "[0.10947905480861664, 0.9583333134651184]"
      ]
     },
     "execution_count": 19,
     "metadata": {},
     "output_type": "execute_result"
    }
   ],
   "source": [
    "model_full.evaluate(val_ds)"
   ]
  },
  {
   "cell_type": "markdown",
   "metadata": {
    "id": "VlzFnkBKjq4t"
   },
   "source": [
    "### See your classifier in action\n",
    "\n",
    "Ok, now we are ready to put our classifier to test. Upload your favourite cat and dog images and see your model in action."
   ]
  },
  {
   "cell_type": "code",
   "execution_count": null,
   "metadata": {
    "id": "yo1nv-sTjvlh"
   },
   "outputs": [],
   "source": [
    "# we use google colab api to upload the file\n",
    "# If you are running locally, you may need to change this to use FileUpload ipywidget\n",
    "from google.colab import files\n",
    "\n",
    "uploaded = files.upload()\n",
    "# take only the first file\n",
    "filename = list(uploaded.keys())[0]"
   ]
  },
  {
   "cell_type": "code",
   "execution_count": null,
   "metadata": {
    "id": "Nq2SyJHBkbXF"
   },
   "outputs": [],
   "source": [
    "img = tf.keras.preprocessing.image.load_img(\n",
    "    filename, target_size=(img_height, img_width)\n",
    ")\n",
    "# we convert the image to numpy array\n",
    "img_array = tf.keras.preprocessing.image.img_to_array(img)\n",
    "\n",
    "# Although we only have single image, however our model expected data in batches\n",
    "# so we will need to add in the batch axis too\n",
    "img_array = tf.expand_dims(img_array, 0) # Create a batch\n",
    "\n",
    "# we load the model saved earlier and do the inference \n",
    "model = tf.keras.models.load_model('full_model')\n",
    "predictions = model(img_array)\n",
    "print(predictions)\n",
    "if predictions[0] > 0.5: \n",
    "    print('It is a dog')\n",
    "else:\n",
    "    print('It is a cat')"
   ]
  },
  {
   "cell_type": "code",
   "execution_count": null,
   "metadata": {
    "id": "tXL8snVinmab"
   },
   "outputs": [],
   "source": []
  }
 ],
 "metadata": {
  "accelerator": "GPU",
  "anaconda-cloud": {},
  "colab": {
   "include_colab_link": true,
   "name": "2.feature_extraction.ipynb",
   "provenance": []
  },
  "kernelspec": {
   "display_name": "Python 3 (ipykernel)",
   "language": "python",
   "name": "python3"
  },
  "language_info": {
   "codemirror_mode": {
    "name": "ipython",
    "version": 3
   },
   "file_extension": ".py",
   "mimetype": "text/x-python",
   "name": "python",
   "nbconvert_exporter": "python",
   "pygments_lexer": "ipython3",
   "version": "3.8.12"
  },
  "toc": {
   "colors": {
    "hover_highlight": "#DAA520",
    "navigate_num": "#000000",
    "navigate_text": "#333333",
    "running_highlight": "#FF0000",
    "selected_highlight": "#FFD700",
    "sidebar_border": "#EEEEEE",
    "wrapper_background": "#FFFFFF"
   },
   "moveMenuLeft": true,
   "nav_menu": {
    "height": "12px",
    "width": "252px"
   },
   "navigate_menu": true,
   "number_sections": true,
   "sideBar": true,
   "threshold": 4,
   "toc_cell": false,
   "toc_section_display": "block",
   "toc_window_display": false,
   "widenNotebook": false
  }
 },
 "nbformat": 4,
 "nbformat_minor": 4
}
